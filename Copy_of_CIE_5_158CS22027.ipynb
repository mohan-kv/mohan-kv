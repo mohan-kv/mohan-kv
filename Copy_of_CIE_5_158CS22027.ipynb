{
  "nbformat": 4,
  "nbformat_minor": 0,
  "metadata": {
    "colab": {
      "provenance": [],
      "authorship_tag": "ABX9TyO/qHSmKd4ivPkuMHAB0qi7",
      "include_colab_link": true
    },
    "kernelspec": {
      "name": "python3",
      "display_name": "Python 3"
    },
    "language_info": {
      "name": "python"
    }
  },
  "cells": [
    {
      "cell_type": "markdown",
      "metadata": {
        "id": "view-in-github",
        "colab_type": "text"
      },
      "source": [
        "<a href=\"https://colab.research.google.com/github/mohan-kv/mohan-kv/blob/main/Copy_of_CIE_5_158CS22027.ipynb\" target=\"_parent\"><img src=\"https://colab.research.google.com/assets/colab-badge.svg\" alt=\"Open In Colab\"/></a>"
      ]
    },
    {
      "cell_type": "code",
      "execution_count": null,
      "metadata": {
        "colab": {
          "base_uri": "https://localhost:8080/"
        },
        "id": "OU5syRiMRjqk",
        "outputId": "591bcf58-f156-456b-8eab-c25cc8b04215"
      },
      "outputs": [
        {
          "output_type": "stream",
          "name": "stderr",
          "text": [
            "/usr/local/lib/python3.10/dist-packages/keras/src/layers/reshaping/flatten.py:37: UserWarning: Do not pass an `input_shape`/`input_dim` argument to a layer. When using Sequential models, prefer using an `Input(shape)` object as the first layer in the model instead.\n",
            "  super().__init__(**kwargs)\n"
          ]
        },
        {
          "output_type": "stream",
          "name": "stdout",
          "text": [
            "Epoch 1/5\n",
            "\u001b[1m1875/1875\u001b[0m \u001b[32m━━━━━━━━━━━━━━━━━━━━\u001b[0m\u001b[37m\u001b[0m \u001b[1m7s\u001b[0m 3ms/step - accuracy: 0.8808 - loss: 0.4288\n",
            "Epoch 2/5\n",
            "\u001b[1m1875/1875\u001b[0m \u001b[32m━━━━━━━━━━━━━━━━━━━━\u001b[0m\u001b[37m\u001b[0m \u001b[1m9s\u001b[0m 3ms/step - accuracy: 0.9634 - loss: 0.1233\n",
            "Epoch 3/5\n",
            "\u001b[1m1875/1875\u001b[0m \u001b[32m━━━━━━━━━━━━━━━━━━━━\u001b[0m\u001b[37m\u001b[0m \u001b[1m5s\u001b[0m 3ms/step - accuracy: 0.9754 - loss: 0.0832\n",
            "Epoch 4/5\n",
            "\u001b[1m1875/1875\u001b[0m \u001b[32m━━━━━━━━━━━━━━━━━━━━\u001b[0m\u001b[37m\u001b[0m \u001b[1m4s\u001b[0m 2ms/step - accuracy: 0.9823 - loss: 0.0584\n",
            "Epoch 5/5\n",
            "\u001b[1m1875/1875\u001b[0m \u001b[32m━━━━━━━━━━━━━━━━━━━━\u001b[0m\u001b[37m\u001b[0m \u001b[1m6s\u001b[0m 3ms/step - accuracy: 0.9861 - loss: 0.0458\n",
            "\u001b[1m313/313\u001b[0m \u001b[32m━━━━━━━━━━━━━━━━━━━━\u001b[0m\u001b[37m\u001b[0m \u001b[1m1s\u001b[0m 1ms/step - accuracy: 0.9743 - loss: 0.0817\n",
            "Loss: \n",
            " 0.07077730447053909\n",
            "Accuracy: \n",
            " 0.9771999716758728\n"
          ]
        }
      ],
      "source": [
        "from tensorflow.keras.datasets import mnist\n",
        "from tensorflow.keras.models import Sequential\n",
        "from tensorflow.keras.layers import Dense, Flatten\n",
        "from tensorflow.keras.utils import to_categorical\n",
        "\n",
        "(x_train,y_train),(x_test,y_test)=mnist.load_data()\n",
        "\n",
        "x_train,x_test=x_train/255.0,x_test/255.0\n",
        "y_train,y_test=to_categorical(y_train),to_categorical(y_test)\n",
        "\n",
        "model=Sequential([\n",
        "    Flatten(input_shape=(28,28)),\n",
        "    Dense(128,activation='relu'),\n",
        "    Dense(10,activation='softmax')\n",
        "])\n",
        "model.compile(optimizer='adam',loss='categorical_crossentropy',metrics=['accuracy'])\n",
        "model.fit(x_train,y_train,epochs=5,batch_size=32)\n",
        "\n",
        "loss,accuracy=model.evaluate(x_test,y_test)\n",
        "print('Loss: \\n',loss)\n",
        "print('Accuracy: \\n',accuracy)"
      ]
    },
    {
      "cell_type": "code",
      "source": [
        "from google.colab import files\n",
        "uploaded=files.upload()"
      ],
      "metadata": {
        "colab": {
          "base_uri": "https://localhost:8080/",
          "height": 74
        },
        "id": "MdnUOaP7xbOh",
        "outputId": "08bd0354-111f-4a57-8688-1c0cf8e3278c"
      },
      "execution_count": null,
      "outputs": [
        {
          "output_type": "display_data",
          "data": {
            "text/plain": [
              "<IPython.core.display.HTML object>"
            ],
            "text/html": [
              "\n",
              "     <input type=\"file\" id=\"files-7b3d9f39-3b8c-4679-9016-08407f63bf33\" name=\"files[]\" multiple disabled\n",
              "        style=\"border:none\" />\n",
              "     <output id=\"result-7b3d9f39-3b8c-4679-9016-08407f63bf33\">\n",
              "      Upload widget is only available when the cell has been executed in the\n",
              "      current browser session. Please rerun this cell to enable.\n",
              "      </output>\n",
              "      <script>// Copyright 2017 Google LLC\n",
              "//\n",
              "// Licensed under the Apache License, Version 2.0 (the \"License\");\n",
              "// you may not use this file except in compliance with the License.\n",
              "// You may obtain a copy of the License at\n",
              "//\n",
              "//      http://www.apache.org/licenses/LICENSE-2.0\n",
              "//\n",
              "// Unless required by applicable law or agreed to in writing, software\n",
              "// distributed under the License is distributed on an \"AS IS\" BASIS,\n",
              "// WITHOUT WARRANTIES OR CONDITIONS OF ANY KIND, either express or implied.\n",
              "// See the License for the specific language governing permissions and\n",
              "// limitations under the License.\n",
              "\n",
              "/**\n",
              " * @fileoverview Helpers for google.colab Python module.\n",
              " */\n",
              "(function(scope) {\n",
              "function span(text, styleAttributes = {}) {\n",
              "  const element = document.createElement('span');\n",
              "  element.textContent = text;\n",
              "  for (const key of Object.keys(styleAttributes)) {\n",
              "    element.style[key] = styleAttributes[key];\n",
              "  }\n",
              "  return element;\n",
              "}\n",
              "\n",
              "// Max number of bytes which will be uploaded at a time.\n",
              "const MAX_PAYLOAD_SIZE = 100 * 1024;\n",
              "\n",
              "function _uploadFiles(inputId, outputId) {\n",
              "  const steps = uploadFilesStep(inputId, outputId);\n",
              "  const outputElement = document.getElementById(outputId);\n",
              "  // Cache steps on the outputElement to make it available for the next call\n",
              "  // to uploadFilesContinue from Python.\n",
              "  outputElement.steps = steps;\n",
              "\n",
              "  return _uploadFilesContinue(outputId);\n",
              "}\n",
              "\n",
              "// This is roughly an async generator (not supported in the browser yet),\n",
              "// where there are multiple asynchronous steps and the Python side is going\n",
              "// to poll for completion of each step.\n",
              "// This uses a Promise to block the python side on completion of each step,\n",
              "// then passes the result of the previous step as the input to the next step.\n",
              "function _uploadFilesContinue(outputId) {\n",
              "  const outputElement = document.getElementById(outputId);\n",
              "  const steps = outputElement.steps;\n",
              "\n",
              "  const next = steps.next(outputElement.lastPromiseValue);\n",
              "  return Promise.resolve(next.value.promise).then((value) => {\n",
              "    // Cache the last promise value to make it available to the next\n",
              "    // step of the generator.\n",
              "    outputElement.lastPromiseValue = value;\n",
              "    return next.value.response;\n",
              "  });\n",
              "}\n",
              "\n",
              "/**\n",
              " * Generator function which is called between each async step of the upload\n",
              " * process.\n",
              " * @param {string} inputId Element ID of the input file picker element.\n",
              " * @param {string} outputId Element ID of the output display.\n",
              " * @return {!Iterable<!Object>} Iterable of next steps.\n",
              " */\n",
              "function* uploadFilesStep(inputId, outputId) {\n",
              "  const inputElement = document.getElementById(inputId);\n",
              "  inputElement.disabled = false;\n",
              "\n",
              "  const outputElement = document.getElementById(outputId);\n",
              "  outputElement.innerHTML = '';\n",
              "\n",
              "  const pickedPromise = new Promise((resolve) => {\n",
              "    inputElement.addEventListener('change', (e) => {\n",
              "      resolve(e.target.files);\n",
              "    });\n",
              "  });\n",
              "\n",
              "  const cancel = document.createElement('button');\n",
              "  inputElement.parentElement.appendChild(cancel);\n",
              "  cancel.textContent = 'Cancel upload';\n",
              "  const cancelPromise = new Promise((resolve) => {\n",
              "    cancel.onclick = () => {\n",
              "      resolve(null);\n",
              "    };\n",
              "  });\n",
              "\n",
              "  // Wait for the user to pick the files.\n",
              "  const files = yield {\n",
              "    promise: Promise.race([pickedPromise, cancelPromise]),\n",
              "    response: {\n",
              "      action: 'starting',\n",
              "    }\n",
              "  };\n",
              "\n",
              "  cancel.remove();\n",
              "\n",
              "  // Disable the input element since further picks are not allowed.\n",
              "  inputElement.disabled = true;\n",
              "\n",
              "  if (!files) {\n",
              "    return {\n",
              "      response: {\n",
              "        action: 'complete',\n",
              "      }\n",
              "    };\n",
              "  }\n",
              "\n",
              "  for (const file of files) {\n",
              "    const li = document.createElement('li');\n",
              "    li.append(span(file.name, {fontWeight: 'bold'}));\n",
              "    li.append(span(\n",
              "        `(${file.type || 'n/a'}) - ${file.size} bytes, ` +\n",
              "        `last modified: ${\n",
              "            file.lastModifiedDate ? file.lastModifiedDate.toLocaleDateString() :\n",
              "                                    'n/a'} - `));\n",
              "    const percent = span('0% done');\n",
              "    li.appendChild(percent);\n",
              "\n",
              "    outputElement.appendChild(li);\n",
              "\n",
              "    const fileDataPromise = new Promise((resolve) => {\n",
              "      const reader = new FileReader();\n",
              "      reader.onload = (e) => {\n",
              "        resolve(e.target.result);\n",
              "      };\n",
              "      reader.readAsArrayBuffer(file);\n",
              "    });\n",
              "    // Wait for the data to be ready.\n",
              "    let fileData = yield {\n",
              "      promise: fileDataPromise,\n",
              "      response: {\n",
              "        action: 'continue',\n",
              "      }\n",
              "    };\n",
              "\n",
              "    // Use a chunked sending to avoid message size limits. See b/62115660.\n",
              "    let position = 0;\n",
              "    do {\n",
              "      const length = Math.min(fileData.byteLength - position, MAX_PAYLOAD_SIZE);\n",
              "      const chunk = new Uint8Array(fileData, position, length);\n",
              "      position += length;\n",
              "\n",
              "      const base64 = btoa(String.fromCharCode.apply(null, chunk));\n",
              "      yield {\n",
              "        response: {\n",
              "          action: 'append',\n",
              "          file: file.name,\n",
              "          data: base64,\n",
              "        },\n",
              "      };\n",
              "\n",
              "      let percentDone = fileData.byteLength === 0 ?\n",
              "          100 :\n",
              "          Math.round((position / fileData.byteLength) * 100);\n",
              "      percent.textContent = `${percentDone}% done`;\n",
              "\n",
              "    } while (position < fileData.byteLength);\n",
              "  }\n",
              "\n",
              "  // All done.\n",
              "  yield {\n",
              "    response: {\n",
              "      action: 'complete',\n",
              "    }\n",
              "  };\n",
              "}\n",
              "\n",
              "scope.google = scope.google || {};\n",
              "scope.google.colab = scope.google.colab || {};\n",
              "scope.google.colab._files = {\n",
              "  _uploadFiles,\n",
              "  _uploadFilesContinue,\n",
              "};\n",
              "})(self);\n",
              "</script> "
            ]
          },
          "metadata": {}
        },
        {
          "output_type": "stream",
          "name": "stdout",
          "text": [
            "Saving q4.csv to q4.csv\n"
          ]
        }
      ]
    },
    {
      "cell_type": "code",
      "source": [
        "import pandas as pd\n",
        "data=pd.read_csv('q4.csv')\n",
        "print(data)"
      ],
      "metadata": {
        "colab": {
          "base_uri": "https://localhost:8080/"
        },
        "id": "320aRyzYz1mE",
        "outputId": "64c9f134-96d1-4947-fdbc-e6abe0b563e4"
      },
      "execution_count": null,
      "outputs": [
        {
          "output_type": "stream",
          "name": "stdout",
          "text": [
            "Empty DataFrame\n",
            "Columns: [To continerize an ml model means to package the model and all its dependencies,including libraries and runtime enviornments,into a container is a lightweight and portable package that contains everything needed to run an application or service']\n",
            "Index: []\n"
          ]
        }
      ]
    },
    {
      "cell_type": "code",
      "source": [
        "text=open('q4.csv').read()\n",
        "print(text)"
      ],
      "metadata": {
        "colab": {
          "base_uri": "https://localhost:8080/"
        },
        "id": "yWM4AFTwy3_E",
        "outputId": "e0638b6c-f584-444e-f71e-9f3841067089"
      },
      "execution_count": null,
      "outputs": [
        {
          "output_type": "stream",
          "name": "stdout",
          "text": [
            "\"To continerize an ml model means to package the model and all its dependencies,including libraries and runtime enviornments,into a container is a lightweight and portable package that contains everything needed to run an application or service'\"\n",
            "\n"
          ]
        }
      ]
    },
    {
      "cell_type": "code",
      "source": [
        "import nltk\n",
        "from nltk.corpus import stopwords\n",
        "nltk.download('stopwords')\n",
        "\n",
        "tokens=set(stopwords.words('english'))\n",
        "print('Stop words: \\n',tokens)"
      ],
      "metadata": {
        "colab": {
          "base_uri": "https://localhost:8080/"
        },
        "id": "sqGv_4KczDfi",
        "outputId": "0f735f66-b0c0-42bf-ec38-8748d9b300cc"
      },
      "execution_count": null,
      "outputs": [
        {
          "output_type": "stream",
          "name": "stdout",
          "text": [
            "Stop words: \n",
            " {\"isn't\", 'if', 'it', 'themselves', \"haven't\", 'above', 'where', 'y', 'against', 'did', 'with', 'mightn', \"you'll\", 'than', 'doing', 'they', 'were', 'those', 'there', 'in', 'he', 'when', 'an', 's', \"you've\", 'doesn', 'no', 'at', 'yourselves', \"that'll\", 'so', 'not', 'our', 'shouldn', \"don't\", 'each', 'that', 'who', \"mightn't\", 'having', 'further', 'from', 'then', 'me', 'o', 'yours', 'between', 'and', \"should've\", 'its', \"hasn't\", \"needn't\", 'your', 'under', 'of', 'through', 'for', 'what', 'about', 'on', 'shan', 'itself', 'she', \"she's\", \"aren't\", 'herself', 'to', 'i', 'isn', \"doesn't\", 'now', 'was', \"weren't\", 'needn', 'ours', 'himself', 'haven', 'd', \"it's\", \"mustn't\", 'hasn', 'hadn', 'will', 'his', 'yourself', 'this', 'after', 'aren', 'myself', 'why', \"you're\", 'theirs', 'have', 'a', 'hers', 'is', 'but', 'just', 'out', 'am', 'we', 'most', \"didn't\", 'wouldn', 'up', 'ain', 'such', \"couldn't\", 'how', 'once', 'my', 'again', 'same', 'had', 'don', 'mustn', 'as', 'all', 'nor', 'can', 'into', 'by', 'are', 'whom', \"wouldn't\", 't', 'over', \"wasn't\", 'does', \"you'd\", 'their', 'which', 'some', 'too', 'being', 'ourselves', 'down', 'any', 'only', 'them', 'should', \"hadn't\", 'weren', 'because', 'didn', 'off', \"shan't\", 'the', 'until', 'wasn', 'more', 'few', 'other', 'very', \"shouldn't\", 'while', 'couldn', 'you', 'm', 'below', 'won', 'be', \"won't\", 'ma', 'both', 'do', 'or', 'before', 'her', 'll', 'own', 'here', 'him', 'been', 'during', 've', 're', 'has', 'these'}\n"
          ]
        },
        {
          "output_type": "stream",
          "name": "stderr",
          "text": [
            "[nltk_data] Downloading package stopwords to /root/nltk_data...\n",
            "[nltk_data]   Package stopwords is already up-to-date!\n"
          ]
        }
      ]
    },
    {
      "cell_type": "code",
      "source": [
        "from nltk.tokenize import word_tokenize,sent_tokenize\n",
        "nltk.download('punkt')\n",
        "\n",
        "word_token=word_tokenize(text)\n",
        "sent_token=sent_tokenize(text)\n",
        "print('Word Tokenization: \\n',word_token)\n",
        "print('Sentence Tokenization: \\n',sent_token)"
      ],
      "metadata": {
        "colab": {
          "base_uri": "https://localhost:8080/"
        },
        "id": "Dlz7iag92kmn",
        "outputId": "668801c7-eae6-4d94-e3da-388f33963340"
      },
      "execution_count": null,
      "outputs": [
        {
          "output_type": "stream",
          "name": "stderr",
          "text": [
            "[nltk_data] Downloading package punkt to /root/nltk_data...\n",
            "[nltk_data]   Unzipping tokenizers/punkt.zip.\n"
          ]
        },
        {
          "output_type": "stream",
          "name": "stdout",
          "text": [
            "Word Tokenization: \n",
            " ['``', 'To', 'continerize', 'an', 'ml', 'model', 'means', 'to', 'package', 'the', 'model', 'and', 'all', 'its', 'dependencies', ',', 'including', 'libraries', 'and', 'runtime', 'enviornments', ',', 'into', 'a', 'container', 'is', 'a', 'lightweight', 'and', 'portable', 'package', 'that', 'contains', 'everything', 'needed', 'to', 'run', 'an', 'application', 'or', 'service', \"'\", \"''\"]\n",
            "Sentence Tokenization: \n",
            " ['\"To continerize an ml model means to package the model and all its dependencies,including libraries and runtime enviornments,into a container is a lightweight and portable package that contains everything needed to run an application or service\\'\"']\n"
          ]
        }
      ]
    },
    {
      "cell_type": "code",
      "source": [
        "from nltk.stem import PorterStemmer,WordNetLemmatizer\n",
        "nltk.download('wordnet')\n",
        "\n",
        "stemmer=PorterStemmer()\n",
        "wordnet=WordNetLemmatizer()\n",
        "\n",
        "\n",
        "stemmed=[stemmer.stem(word) for word in tokens]\n",
        "lemitize=[wordnet.lemmatize(word) for word in tokens]\n",
        "print('Stemming: \\n',stemmed)\n",
        "print('Lemetization: \\n',lemitize)"
      ],
      "metadata": {
        "colab": {
          "base_uri": "https://localhost:8080/"
        },
        "id": "Y4nV5wTY0Upr",
        "outputId": "78d4e07e-6b55-4c6d-ecfe-e45695865b97"
      },
      "execution_count": null,
      "outputs": [
        {
          "output_type": "stream",
          "name": "stdout",
          "text": [
            "Stemming: \n",
            " [\"isn't\", 'if', 'it', 'themselv', \"haven't\", 'abov', 'where', 'y', 'against', 'did', 'with', 'mightn', \"you'll\", 'than', 'do', 'they', 'were', 'those', 'there', 'in', 'he', 'when', 'an', 's', \"you'v\", 'doesn', 'no', 'at', 'yourselv', \"that'll\", 'so', 'not', 'our', 'shouldn', \"don't\", 'each', 'that', 'who', \"mightn't\", 'have', 'further', 'from', 'then', 'me', 'o', 'your', 'between', 'and', \"should'v\", 'it', \"hasn't\", \"needn't\", 'your', 'under', 'of', 'through', 'for', 'what', 'about', 'on', 'shan', 'itself', 'she', \"she'\", \"aren't\", 'herself', 'to', 'i', 'isn', \"doesn't\", 'now', 'wa', \"weren't\", 'needn', 'our', 'himself', 'haven', 'd', \"it'\", \"mustn't\", 'hasn', 'hadn', 'will', 'hi', 'yourself', 'thi', 'after', 'aren', 'myself', 'whi', \"you'r\", 'their', 'have', 'a', 'her', 'is', 'but', 'just', 'out', 'am', 'we', 'most', \"didn't\", 'wouldn', 'up', 'ain', 'such', \"couldn't\", 'how', 'onc', 'my', 'again', 'same', 'had', 'don', 'mustn', 'as', 'all', 'nor', 'can', 'into', 'by', 'are', 'whom', \"wouldn't\", 't', 'over', \"wasn't\", 'doe', \"you'd\", 'their', 'which', 'some', 'too', 'be', 'ourselv', 'down', 'ani', 'onli', 'them', 'should', \"hadn't\", 'weren', 'becaus', 'didn', 'off', \"shan't\", 'the', 'until', 'wasn', 'more', 'few', 'other', 'veri', \"shouldn't\", 'while', 'couldn', 'you', 'm', 'below', 'won', 'be', \"won't\", 'ma', 'both', 'do', 'or', 'befor', 'her', 'll', 'own', 'here', 'him', 'been', 'dure', 've', 're', 'ha', 'these']\n",
            "Lemetization: \n",
            " [\"isn't\", 'if', 'it', 'themselves', \"haven't\", 'above', 'where', 'y', 'against', 'did', 'with', 'mightn', \"you'll\", 'than', 'doing', 'they', 'were', 'those', 'there', 'in', 'he', 'when', 'an', 's', \"you've\", 'doesn', 'no', 'at', 'yourselves', \"that'll\", 'so', 'not', 'our', 'shouldn', \"don't\", 'each', 'that', 'who', \"mightn't\", 'having', 'further', 'from', 'then', 'me', 'o', 'yours', 'between', 'and', \"should've\", 'it', \"hasn't\", \"needn't\", 'your', 'under', 'of', 'through', 'for', 'what', 'about', 'on', 'shan', 'itself', 'she', \"she's\", \"aren't\", 'herself', 'to', 'i', 'isn', \"doesn't\", 'now', 'wa', \"weren't\", 'needn', 'ours', 'himself', 'haven', 'd', \"it's\", \"mustn't\", 'hasn', 'hadn', 'will', 'his', 'yourself', 'this', 'after', 'aren', 'myself', 'why', \"you're\", 'theirs', 'have', 'a', 'hers', 'is', 'but', 'just', 'out', 'am', 'we', 'most', \"didn't\", 'wouldn', 'up', 'ain', 'such', \"couldn't\", 'how', 'once', 'my', 'again', 'same', 'had', 'don', 'mustn', 'a', 'all', 'nor', 'can', 'into', 'by', 'are', 'whom', \"wouldn't\", 't', 'over', \"wasn't\", 'doe', \"you'd\", 'their', 'which', 'some', 'too', 'being', 'ourselves', 'down', 'any', 'only', 'them', 'should', \"hadn't\", 'weren', 'because', 'didn', 'off', \"shan't\", 'the', 'until', 'wasn', 'more', 'few', 'other', 'very', \"shouldn't\", 'while', 'couldn', 'you', 'm', 'below', 'won', 'be', \"won't\", 'ma', 'both', 'do', 'or', 'before', 'her', 'll', 'own', 'here', 'him', 'been', 'during', 've', 're', 'ha', 'these']\n"
          ]
        },
        {
          "output_type": "stream",
          "name": "stderr",
          "text": [
            "[nltk_data] Downloading package wordnet to /root/nltk_data...\n",
            "[nltk_data]   Package wordnet is already up-to-date!\n"
          ]
        }
      ]
    },
    {
      "cell_type": "code",
      "source": [
        "from nltk import ngrams\n",
        "\n",
        "uni=list(ngrams(tokens,1))\n",
        "bi=list(ngrams(tokens,2))\n",
        "tri=list(ngrams(tokens,3))\n",
        "print('Unigram: \\n',uni)\n",
        "print('Bigram: \\n',bi)\n",
        "print('Trigram: \\n',tri)"
      ],
      "metadata": {
        "colab": {
          "base_uri": "https://localhost:8080/"
        },
        "id": "BiB_Ho8C1nH9",
        "outputId": "0a46e951-6dca-4550-9293-3b12b406ad64"
      },
      "execution_count": null,
      "outputs": [
        {
          "output_type": "stream",
          "name": "stdout",
          "text": [
            "Unigram: \n",
            " [(\"isn't\",), ('if',), ('it',), ('themselves',), (\"haven't\",), ('above',), ('where',), ('y',), ('against',), ('did',), ('with',), ('mightn',), (\"you'll\",), ('than',), ('doing',), ('they',), ('were',), ('those',), ('there',), ('in',), ('he',), ('when',), ('an',), ('s',), (\"you've\",), ('doesn',), ('no',), ('at',), ('yourselves',), (\"that'll\",), ('so',), ('not',), ('our',), ('shouldn',), (\"don't\",), ('each',), ('that',), ('who',), (\"mightn't\",), ('having',), ('further',), ('from',), ('then',), ('me',), ('o',), ('yours',), ('between',), ('and',), (\"should've\",), ('its',), (\"hasn't\",), (\"needn't\",), ('your',), ('under',), ('of',), ('through',), ('for',), ('what',), ('about',), ('on',), ('shan',), ('itself',), ('she',), (\"she's\",), (\"aren't\",), ('herself',), ('to',), ('i',), ('isn',), (\"doesn't\",), ('now',), ('was',), (\"weren't\",), ('needn',), ('ours',), ('himself',), ('haven',), ('d',), (\"it's\",), (\"mustn't\",), ('hasn',), ('hadn',), ('will',), ('his',), ('yourself',), ('this',), ('after',), ('aren',), ('myself',), ('why',), (\"you're\",), ('theirs',), ('have',), ('a',), ('hers',), ('is',), ('but',), ('just',), ('out',), ('am',), ('we',), ('most',), (\"didn't\",), ('wouldn',), ('up',), ('ain',), ('such',), (\"couldn't\",), ('how',), ('once',), ('my',), ('again',), ('same',), ('had',), ('don',), ('mustn',), ('as',), ('all',), ('nor',), ('can',), ('into',), ('by',), ('are',), ('whom',), (\"wouldn't\",), ('t',), ('over',), (\"wasn't\",), ('does',), (\"you'd\",), ('their',), ('which',), ('some',), ('too',), ('being',), ('ourselves',), ('down',), ('any',), ('only',), ('them',), ('should',), (\"hadn't\",), ('weren',), ('because',), ('didn',), ('off',), (\"shan't\",), ('the',), ('until',), ('wasn',), ('more',), ('few',), ('other',), ('very',), (\"shouldn't\",), ('while',), ('couldn',), ('you',), ('m',), ('below',), ('won',), ('be',), (\"won't\",), ('ma',), ('both',), ('do',), ('or',), ('before',), ('her',), ('ll',), ('own',), ('here',), ('him',), ('been',), ('during',), ('ve',), ('re',), ('has',), ('these',)]\n",
            "Bigram: \n",
            " [(\"isn't\", 'if'), ('if', 'it'), ('it', 'themselves'), ('themselves', \"haven't\"), (\"haven't\", 'above'), ('above', 'where'), ('where', 'y'), ('y', 'against'), ('against', 'did'), ('did', 'with'), ('with', 'mightn'), ('mightn', \"you'll\"), (\"you'll\", 'than'), ('than', 'doing'), ('doing', 'they'), ('they', 'were'), ('were', 'those'), ('those', 'there'), ('there', 'in'), ('in', 'he'), ('he', 'when'), ('when', 'an'), ('an', 's'), ('s', \"you've\"), (\"you've\", 'doesn'), ('doesn', 'no'), ('no', 'at'), ('at', 'yourselves'), ('yourselves', \"that'll\"), (\"that'll\", 'so'), ('so', 'not'), ('not', 'our'), ('our', 'shouldn'), ('shouldn', \"don't\"), (\"don't\", 'each'), ('each', 'that'), ('that', 'who'), ('who', \"mightn't\"), (\"mightn't\", 'having'), ('having', 'further'), ('further', 'from'), ('from', 'then'), ('then', 'me'), ('me', 'o'), ('o', 'yours'), ('yours', 'between'), ('between', 'and'), ('and', \"should've\"), (\"should've\", 'its'), ('its', \"hasn't\"), (\"hasn't\", \"needn't\"), (\"needn't\", 'your'), ('your', 'under'), ('under', 'of'), ('of', 'through'), ('through', 'for'), ('for', 'what'), ('what', 'about'), ('about', 'on'), ('on', 'shan'), ('shan', 'itself'), ('itself', 'she'), ('she', \"she's\"), (\"she's\", \"aren't\"), (\"aren't\", 'herself'), ('herself', 'to'), ('to', 'i'), ('i', 'isn'), ('isn', \"doesn't\"), (\"doesn't\", 'now'), ('now', 'was'), ('was', \"weren't\"), (\"weren't\", 'needn'), ('needn', 'ours'), ('ours', 'himself'), ('himself', 'haven'), ('haven', 'd'), ('d', \"it's\"), (\"it's\", \"mustn't\"), (\"mustn't\", 'hasn'), ('hasn', 'hadn'), ('hadn', 'will'), ('will', 'his'), ('his', 'yourself'), ('yourself', 'this'), ('this', 'after'), ('after', 'aren'), ('aren', 'myself'), ('myself', 'why'), ('why', \"you're\"), (\"you're\", 'theirs'), ('theirs', 'have'), ('have', 'a'), ('a', 'hers'), ('hers', 'is'), ('is', 'but'), ('but', 'just'), ('just', 'out'), ('out', 'am'), ('am', 'we'), ('we', 'most'), ('most', \"didn't\"), (\"didn't\", 'wouldn'), ('wouldn', 'up'), ('up', 'ain'), ('ain', 'such'), ('such', \"couldn't\"), (\"couldn't\", 'how'), ('how', 'once'), ('once', 'my'), ('my', 'again'), ('again', 'same'), ('same', 'had'), ('had', 'don'), ('don', 'mustn'), ('mustn', 'as'), ('as', 'all'), ('all', 'nor'), ('nor', 'can'), ('can', 'into'), ('into', 'by'), ('by', 'are'), ('are', 'whom'), ('whom', \"wouldn't\"), (\"wouldn't\", 't'), ('t', 'over'), ('over', \"wasn't\"), (\"wasn't\", 'does'), ('does', \"you'd\"), (\"you'd\", 'their'), ('their', 'which'), ('which', 'some'), ('some', 'too'), ('too', 'being'), ('being', 'ourselves'), ('ourselves', 'down'), ('down', 'any'), ('any', 'only'), ('only', 'them'), ('them', 'should'), ('should', \"hadn't\"), (\"hadn't\", 'weren'), ('weren', 'because'), ('because', 'didn'), ('didn', 'off'), ('off', \"shan't\"), (\"shan't\", 'the'), ('the', 'until'), ('until', 'wasn'), ('wasn', 'more'), ('more', 'few'), ('few', 'other'), ('other', 'very'), ('very', \"shouldn't\"), (\"shouldn't\", 'while'), ('while', 'couldn'), ('couldn', 'you'), ('you', 'm'), ('m', 'below'), ('below', 'won'), ('won', 'be'), ('be', \"won't\"), (\"won't\", 'ma'), ('ma', 'both'), ('both', 'do'), ('do', 'or'), ('or', 'before'), ('before', 'her'), ('her', 'll'), ('ll', 'own'), ('own', 'here'), ('here', 'him'), ('him', 'been'), ('been', 'during'), ('during', 've'), ('ve', 're'), ('re', 'has'), ('has', 'these')]\n",
            "Trigram: \n",
            " [(\"isn't\", 'if', 'it'), ('if', 'it', 'themselves'), ('it', 'themselves', \"haven't\"), ('themselves', \"haven't\", 'above'), (\"haven't\", 'above', 'where'), ('above', 'where', 'y'), ('where', 'y', 'against'), ('y', 'against', 'did'), ('against', 'did', 'with'), ('did', 'with', 'mightn'), ('with', 'mightn', \"you'll\"), ('mightn', \"you'll\", 'than'), (\"you'll\", 'than', 'doing'), ('than', 'doing', 'they'), ('doing', 'they', 'were'), ('they', 'were', 'those'), ('were', 'those', 'there'), ('those', 'there', 'in'), ('there', 'in', 'he'), ('in', 'he', 'when'), ('he', 'when', 'an'), ('when', 'an', 's'), ('an', 's', \"you've\"), ('s', \"you've\", 'doesn'), (\"you've\", 'doesn', 'no'), ('doesn', 'no', 'at'), ('no', 'at', 'yourselves'), ('at', 'yourselves', \"that'll\"), ('yourselves', \"that'll\", 'so'), (\"that'll\", 'so', 'not'), ('so', 'not', 'our'), ('not', 'our', 'shouldn'), ('our', 'shouldn', \"don't\"), ('shouldn', \"don't\", 'each'), (\"don't\", 'each', 'that'), ('each', 'that', 'who'), ('that', 'who', \"mightn't\"), ('who', \"mightn't\", 'having'), (\"mightn't\", 'having', 'further'), ('having', 'further', 'from'), ('further', 'from', 'then'), ('from', 'then', 'me'), ('then', 'me', 'o'), ('me', 'o', 'yours'), ('o', 'yours', 'between'), ('yours', 'between', 'and'), ('between', 'and', \"should've\"), ('and', \"should've\", 'its'), (\"should've\", 'its', \"hasn't\"), ('its', \"hasn't\", \"needn't\"), (\"hasn't\", \"needn't\", 'your'), (\"needn't\", 'your', 'under'), ('your', 'under', 'of'), ('under', 'of', 'through'), ('of', 'through', 'for'), ('through', 'for', 'what'), ('for', 'what', 'about'), ('what', 'about', 'on'), ('about', 'on', 'shan'), ('on', 'shan', 'itself'), ('shan', 'itself', 'she'), ('itself', 'she', \"she's\"), ('she', \"she's\", \"aren't\"), (\"she's\", \"aren't\", 'herself'), (\"aren't\", 'herself', 'to'), ('herself', 'to', 'i'), ('to', 'i', 'isn'), ('i', 'isn', \"doesn't\"), ('isn', \"doesn't\", 'now'), (\"doesn't\", 'now', 'was'), ('now', 'was', \"weren't\"), ('was', \"weren't\", 'needn'), (\"weren't\", 'needn', 'ours'), ('needn', 'ours', 'himself'), ('ours', 'himself', 'haven'), ('himself', 'haven', 'd'), ('haven', 'd', \"it's\"), ('d', \"it's\", \"mustn't\"), (\"it's\", \"mustn't\", 'hasn'), (\"mustn't\", 'hasn', 'hadn'), ('hasn', 'hadn', 'will'), ('hadn', 'will', 'his'), ('will', 'his', 'yourself'), ('his', 'yourself', 'this'), ('yourself', 'this', 'after'), ('this', 'after', 'aren'), ('after', 'aren', 'myself'), ('aren', 'myself', 'why'), ('myself', 'why', \"you're\"), ('why', \"you're\", 'theirs'), (\"you're\", 'theirs', 'have'), ('theirs', 'have', 'a'), ('have', 'a', 'hers'), ('a', 'hers', 'is'), ('hers', 'is', 'but'), ('is', 'but', 'just'), ('but', 'just', 'out'), ('just', 'out', 'am'), ('out', 'am', 'we'), ('am', 'we', 'most'), ('we', 'most', \"didn't\"), ('most', \"didn't\", 'wouldn'), (\"didn't\", 'wouldn', 'up'), ('wouldn', 'up', 'ain'), ('up', 'ain', 'such'), ('ain', 'such', \"couldn't\"), ('such', \"couldn't\", 'how'), (\"couldn't\", 'how', 'once'), ('how', 'once', 'my'), ('once', 'my', 'again'), ('my', 'again', 'same'), ('again', 'same', 'had'), ('same', 'had', 'don'), ('had', 'don', 'mustn'), ('don', 'mustn', 'as'), ('mustn', 'as', 'all'), ('as', 'all', 'nor'), ('all', 'nor', 'can'), ('nor', 'can', 'into'), ('can', 'into', 'by'), ('into', 'by', 'are'), ('by', 'are', 'whom'), ('are', 'whom', \"wouldn't\"), ('whom', \"wouldn't\", 't'), (\"wouldn't\", 't', 'over'), ('t', 'over', \"wasn't\"), ('over', \"wasn't\", 'does'), (\"wasn't\", 'does', \"you'd\"), ('does', \"you'd\", 'their'), (\"you'd\", 'their', 'which'), ('their', 'which', 'some'), ('which', 'some', 'too'), ('some', 'too', 'being'), ('too', 'being', 'ourselves'), ('being', 'ourselves', 'down'), ('ourselves', 'down', 'any'), ('down', 'any', 'only'), ('any', 'only', 'them'), ('only', 'them', 'should'), ('them', 'should', \"hadn't\"), ('should', \"hadn't\", 'weren'), (\"hadn't\", 'weren', 'because'), ('weren', 'because', 'didn'), ('because', 'didn', 'off'), ('didn', 'off', \"shan't\"), ('off', \"shan't\", 'the'), (\"shan't\", 'the', 'until'), ('the', 'until', 'wasn'), ('until', 'wasn', 'more'), ('wasn', 'more', 'few'), ('more', 'few', 'other'), ('few', 'other', 'very'), ('other', 'very', \"shouldn't\"), ('very', \"shouldn't\", 'while'), (\"shouldn't\", 'while', 'couldn'), ('while', 'couldn', 'you'), ('couldn', 'you', 'm'), ('you', 'm', 'below'), ('m', 'below', 'won'), ('below', 'won', 'be'), ('won', 'be', \"won't\"), ('be', \"won't\", 'ma'), (\"won't\", 'ma', 'both'), ('ma', 'both', 'do'), ('both', 'do', 'or'), ('do', 'or', 'before'), ('or', 'before', 'her'), ('before', 'her', 'll'), ('her', 'll', 'own'), ('ll', 'own', 'here'), ('own', 'here', 'him'), ('here', 'him', 'been'), ('him', 'been', 'during'), ('been', 'during', 've'), ('during', 've', 're'), ('ve', 're', 'has'), ('re', 'has', 'these')]\n"
          ]
        }
      ]
    },
    {
      "cell_type": "code",
      "source": [],
      "metadata": {
        "id": "aKup4CTS2WTV"
      },
      "execution_count": null,
      "outputs": []
    }
  ]
}