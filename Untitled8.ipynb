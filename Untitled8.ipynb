{
  "nbformat": 4,
  "nbformat_minor": 0,
  "metadata": {
    "colab": {
      "provenance": [],
      "authorship_tag": "ABX9TyPscaccP6luYHZoS44iLD0X",
      "include_colab_link": true
    },
    "kernelspec": {
      "name": "python3",
      "display_name": "Python 3"
    },
    "language_info": {
      "name": "python"
    }
  },
  "cells": [
    {
      "cell_type": "markdown",
      "metadata": {
        "id": "view-in-github",
        "colab_type": "text"
      },
      "source": [
        "<a href=\"https://colab.research.google.com/github/mohan-kv/mohan-kv/blob/main/Untitled8.ipynb\" target=\"_parent\"><img src=\"https://colab.research.google.com/assets/colab-badge.svg\" alt=\"Open In Colab\"/></a>"
      ]
    },
    {
      "cell_type": "code",
      "execution_count": 1,
      "metadata": {
        "colab": {
          "base_uri": "https://localhost:8080/",
          "height": 74
        },
        "id": "UVYy064o8VjI",
        "outputId": "8e4ced50-5217-42de-98bf-2d1131b6d3d3"
      },
      "outputs": [
        {
          "output_type": "display_data",
          "data": {
            "text/plain": [
              "<IPython.core.display.HTML object>"
            ],
            "text/html": [
              "\n",
              "     <input type=\"file\" id=\"files-c4643fc5-89ae-4509-88ff-5e22bb662688\" name=\"files[]\" multiple disabled\n",
              "        style=\"border:none\" />\n",
              "     <output id=\"result-c4643fc5-89ae-4509-88ff-5e22bb662688\">\n",
              "      Upload widget is only available when the cell has been executed in the\n",
              "      current browser session. Please rerun this cell to enable.\n",
              "      </output>\n",
              "      <script>// Copyright 2017 Google LLC\n",
              "//\n",
              "// Licensed under the Apache License, Version 2.0 (the \"License\");\n",
              "// you may not use this file except in compliance with the License.\n",
              "// You may obtain a copy of the License at\n",
              "//\n",
              "//      http://www.apache.org/licenses/LICENSE-2.0\n",
              "//\n",
              "// Unless required by applicable law or agreed to in writing, software\n",
              "// distributed under the License is distributed on an \"AS IS\" BASIS,\n",
              "// WITHOUT WARRANTIES OR CONDITIONS OF ANY KIND, either express or implied.\n",
              "// See the License for the specific language governing permissions and\n",
              "// limitations under the License.\n",
              "\n",
              "/**\n",
              " * @fileoverview Helpers for google.colab Python module.\n",
              " */\n",
              "(function(scope) {\n",
              "function span(text, styleAttributes = {}) {\n",
              "  const element = document.createElement('span');\n",
              "  element.textContent = text;\n",
              "  for (const key of Object.keys(styleAttributes)) {\n",
              "    element.style[key] = styleAttributes[key];\n",
              "  }\n",
              "  return element;\n",
              "}\n",
              "\n",
              "// Max number of bytes which will be uploaded at a time.\n",
              "const MAX_PAYLOAD_SIZE = 100 * 1024;\n",
              "\n",
              "function _uploadFiles(inputId, outputId) {\n",
              "  const steps = uploadFilesStep(inputId, outputId);\n",
              "  const outputElement = document.getElementById(outputId);\n",
              "  // Cache steps on the outputElement to make it available for the next call\n",
              "  // to uploadFilesContinue from Python.\n",
              "  outputElement.steps = steps;\n",
              "\n",
              "  return _uploadFilesContinue(outputId);\n",
              "}\n",
              "\n",
              "// This is roughly an async generator (not supported in the browser yet),\n",
              "// where there are multiple asynchronous steps and the Python side is going\n",
              "// to poll for completion of each step.\n",
              "// This uses a Promise to block the python side on completion of each step,\n",
              "// then passes the result of the previous step as the input to the next step.\n",
              "function _uploadFilesContinue(outputId) {\n",
              "  const outputElement = document.getElementById(outputId);\n",
              "  const steps = outputElement.steps;\n",
              "\n",
              "  const next = steps.next(outputElement.lastPromiseValue);\n",
              "  return Promise.resolve(next.value.promise).then((value) => {\n",
              "    // Cache the last promise value to make it available to the next\n",
              "    // step of the generator.\n",
              "    outputElement.lastPromiseValue = value;\n",
              "    return next.value.response;\n",
              "  });\n",
              "}\n",
              "\n",
              "/**\n",
              " * Generator function which is called between each async step of the upload\n",
              " * process.\n",
              " * @param {string} inputId Element ID of the input file picker element.\n",
              " * @param {string} outputId Element ID of the output display.\n",
              " * @return {!Iterable<!Object>} Iterable of next steps.\n",
              " */\n",
              "function* uploadFilesStep(inputId, outputId) {\n",
              "  const inputElement = document.getElementById(inputId);\n",
              "  inputElement.disabled = false;\n",
              "\n",
              "  const outputElement = document.getElementById(outputId);\n",
              "  outputElement.innerHTML = '';\n",
              "\n",
              "  const pickedPromise = new Promise((resolve) => {\n",
              "    inputElement.addEventListener('change', (e) => {\n",
              "      resolve(e.target.files);\n",
              "    });\n",
              "  });\n",
              "\n",
              "  const cancel = document.createElement('button');\n",
              "  inputElement.parentElement.appendChild(cancel);\n",
              "  cancel.textContent = 'Cancel upload';\n",
              "  const cancelPromise = new Promise((resolve) => {\n",
              "    cancel.onclick = () => {\n",
              "      resolve(null);\n",
              "    };\n",
              "  });\n",
              "\n",
              "  // Wait for the user to pick the files.\n",
              "  const files = yield {\n",
              "    promise: Promise.race([pickedPromise, cancelPromise]),\n",
              "    response: {\n",
              "      action: 'starting',\n",
              "    }\n",
              "  };\n",
              "\n",
              "  cancel.remove();\n",
              "\n",
              "  // Disable the input element since further picks are not allowed.\n",
              "  inputElement.disabled = true;\n",
              "\n",
              "  if (!files) {\n",
              "    return {\n",
              "      response: {\n",
              "        action: 'complete',\n",
              "      }\n",
              "    };\n",
              "  }\n",
              "\n",
              "  for (const file of files) {\n",
              "    const li = document.createElement('li');\n",
              "    li.append(span(file.name, {fontWeight: 'bold'}));\n",
              "    li.append(span(\n",
              "        `(${file.type || 'n/a'}) - ${file.size} bytes, ` +\n",
              "        `last modified: ${\n",
              "            file.lastModifiedDate ? file.lastModifiedDate.toLocaleDateString() :\n",
              "                                    'n/a'} - `));\n",
              "    const percent = span('0% done');\n",
              "    li.appendChild(percent);\n",
              "\n",
              "    outputElement.appendChild(li);\n",
              "\n",
              "    const fileDataPromise = new Promise((resolve) => {\n",
              "      const reader = new FileReader();\n",
              "      reader.onload = (e) => {\n",
              "        resolve(e.target.result);\n",
              "      };\n",
              "      reader.readAsArrayBuffer(file);\n",
              "    });\n",
              "    // Wait for the data to be ready.\n",
              "    let fileData = yield {\n",
              "      promise: fileDataPromise,\n",
              "      response: {\n",
              "        action: 'continue',\n",
              "      }\n",
              "    };\n",
              "\n",
              "    // Use a chunked sending to avoid message size limits. See b/62115660.\n",
              "    let position = 0;\n",
              "    do {\n",
              "      const length = Math.min(fileData.byteLength - position, MAX_PAYLOAD_SIZE);\n",
              "      const chunk = new Uint8Array(fileData, position, length);\n",
              "      position += length;\n",
              "\n",
              "      const base64 = btoa(String.fromCharCode.apply(null, chunk));\n",
              "      yield {\n",
              "        response: {\n",
              "          action: 'append',\n",
              "          file: file.name,\n",
              "          data: base64,\n",
              "        },\n",
              "      };\n",
              "\n",
              "      let percentDone = fileData.byteLength === 0 ?\n",
              "          100 :\n",
              "          Math.round((position / fileData.byteLength) * 100);\n",
              "      percent.textContent = `${percentDone}% done`;\n",
              "\n",
              "    } while (position < fileData.byteLength);\n",
              "  }\n",
              "\n",
              "  // All done.\n",
              "  yield {\n",
              "    response: {\n",
              "      action: 'complete',\n",
              "    }\n",
              "  };\n",
              "}\n",
              "\n",
              "scope.google = scope.google || {};\n",
              "scope.google.colab = scope.google.colab || {};\n",
              "scope.google.colab._files = {\n",
              "  _uploadFiles,\n",
              "  _uploadFilesContinue,\n",
              "};\n",
              "})(self);\n",
              "</script> "
            ]
          },
          "metadata": {}
        },
        {
          "output_type": "stream",
          "name": "stdout",
          "text": [
            "Saving Iris.csv to Iris (1).csv\n"
          ]
        }
      ],
      "source": [
        "from google.colab import files\n",
        "uploaded=files.upload()"
      ]
    },
    {
      "cell_type": "code",
      "source": [
        "import pandas as pd\n",
        "data=pd.read_csv('/content/Iris.csv')\n",
        "print(data)"
      ],
      "metadata": {
        "colab": {
          "base_uri": "https://localhost:8080/"
        },
        "id": "AxN5h2dS8wUa",
        "outputId": "b5ecae7e-14ae-4ee5-dec9-492e64ca7f8b"
      },
      "execution_count": 17,
      "outputs": [
        {
          "output_type": "stream",
          "name": "stdout",
          "text": [
            "      Id  SepalLengthCm  SepalWidthCm  PetalLengthCm  PetalWidthCm  \\\n",
            "0      1            5.1           3.5            1.4           0.2   \n",
            "1      2            4.9           3.0            1.4           0.2   \n",
            "2      3            4.7           3.2            1.3           0.2   \n",
            "3      4            4.6           3.1            1.5           0.2   \n",
            "4      5            5.0           3.6            1.4           0.2   \n",
            "..   ...            ...           ...            ...           ...   \n",
            "145  146            6.7           3.0            5.2           2.3   \n",
            "146  147            6.3           2.5            5.0           1.9   \n",
            "147  148            6.5           3.0            5.2           2.0   \n",
            "148  149            6.2           3.4            5.4           2.3   \n",
            "149  150            5.9           3.0            5.1           1.8   \n",
            "\n",
            "            Species  \n",
            "0       Iris-setosa  \n",
            "1       Iris-setosa  \n",
            "2       Iris-setosa  \n",
            "3       Iris-setosa  \n",
            "4       Iris-setosa  \n",
            "..              ...  \n",
            "145  Iris-virginica  \n",
            "146  Iris-virginica  \n",
            "147  Iris-virginica  \n",
            "148  Iris-virginica  \n",
            "149  Iris-virginica  \n",
            "\n",
            "[150 rows x 6 columns]\n"
          ]
        }
      ]
    },
    {
      "cell_type": "code",
      "source": [
        "data1=data.max()\n",
        "print(data1)"
      ],
      "metadata": {
        "colab": {
          "base_uri": "https://localhost:8080/"
        },
        "id": "LdTUITyT9hW8",
        "outputId": "32e475f2-2246-430e-e2d5-6c5955a0a694"
      },
      "execution_count": 5,
      "outputs": [
        {
          "output_type": "stream",
          "name": "stdout",
          "text": [
            "Id                          150\n",
            "SepalLengthCm               7.9\n",
            "SepalWidthCm                4.4\n",
            "PetalLengthCm               6.9\n",
            "PetalWidthCm                2.5\n",
            "Species          Iris-virginica\n",
            "dtype: object\n"
          ]
        }
      ]
    },
    {
      "cell_type": "code",
      "source": [
        "data2=data.min()\n",
        "print(data2)"
      ],
      "metadata": {
        "colab": {
          "base_uri": "https://localhost:8080/"
        },
        "id": "7g7Qr1Vx9mJk",
        "outputId": "af3ab473-ac6a-4086-e73c-37b198028ba2"
      },
      "execution_count": 6,
      "outputs": [
        {
          "output_type": "stream",
          "name": "stdout",
          "text": [
            "Id                         1\n",
            "SepalLengthCm            4.3\n",
            "SepalWidthCm             2.0\n",
            "PetalLengthCm            1.0\n",
            "PetalWidthCm             0.1\n",
            "Species          Iris-setosa\n",
            "dtype: object\n"
          ]
        }
      ]
    },
    {
      "cell_type": "code",
      "source": [
        "data['SepalLengthCm'] = pd.to_numeric(data['SepalLengthCm'], errors='coerce')\n",
        "mean_sepal_length = data['SepalLengthCm'].mean()\n",
        "print(mean_sepal_length)\n"
      ],
      "metadata": {
        "colab": {
          "base_uri": "https://localhost:8080/"
        },
        "id": "6zv0Ui9k9wTj",
        "outputId": "66e71cc7-b178-47fd-ebba-68f3b4ff1135"
      },
      "execution_count": 15,
      "outputs": [
        {
          "output_type": "stream",
          "name": "stdout",
          "text": [
            "5.8433333333333355\n"
          ]
        }
      ]
    },
    {
      "cell_type": "code",
      "source": [
        "data['SepalLengthCm'] = pd.to_numeric(data['SepalLengthCm'], errors='coerce')\n",
        "mode_sepal_length = data['SepalLengthCm'].mode()\n",
        "print(mode_sepal_length)\n"
      ],
      "metadata": {
        "colab": {
          "base_uri": "https://localhost:8080/"
        },
        "id": "seZJhCpd-dfj",
        "outputId": "06f303c3-0f0f-44fb-8096-c5c7e08ae379"
      },
      "execution_count": 18,
      "outputs": [
        {
          "output_type": "stream",
          "name": "stdout",
          "text": [
            "0    5.0\n",
            "Name: SepalLengthCm, dtype: float64\n"
          ]
        }
      ]
    },
    {
      "cell_type": "code",
      "source": [
        "data4=len(data)\n",
        "print(\"lenght of data\",data4)"
      ],
      "metadata": {
        "colab": {
          "base_uri": "https://localhost:8080/"
        },
        "id": "W376cwnz-rGu",
        "outputId": "deb69ba1-010a-473f-f003-7b0cfe3add7b"
      },
      "execution_count": 19,
      "outputs": [
        {
          "output_type": "stream",
          "name": "stdout",
          "text": [
            "lenght of data 150\n"
          ]
        }
      ]
    },
    {
      "cell_type": "code",
      "source": [
        "data5=data.shape[0]\n",
        "print(\"no of rows\",data5)"
      ],
      "metadata": {
        "colab": {
          "base_uri": "https://localhost:8080/"
        },
        "id": "yQ-FRzFZ-0sw",
        "outputId": "21b5c31e-6f63-45c6-ec36-d7cce671716e"
      },
      "execution_count": 21,
      "outputs": [
        {
          "output_type": "stream",
          "name": "stdout",
          "text": [
            "no of rows 150\n"
          ]
        }
      ]
    },
    {
      "cell_type": "code",
      "source": [
        "data6=data.shape[1]\n",
        "print(\"no of columns\",data6)"
      ],
      "metadata": {
        "colab": {
          "base_uri": "https://localhost:8080/"
        },
        "id": "Um0GHQLu_IMl",
        "outputId": "f727614a-6dc2-42db-a9fb-df8b5b90ab49"
      },
      "execution_count": 22,
      "outputs": [
        {
          "output_type": "stream",
          "name": "stdout",
          "text": [
            "no of columns 6\n"
          ]
        }
      ]
    },
    {
      "cell_type": "code",
      "source": [
        "data7=data.sum()\n",
        "print(data7)"
      ],
      "metadata": {
        "colab": {
          "base_uri": "https://localhost:8080/"
        },
        "id": "XFYlSw0g_STa",
        "outputId": "4cfa49ce-f687-44ea-9fc1-a711efe08eed"
      },
      "execution_count": 23,
      "outputs": [
        {
          "output_type": "stream",
          "name": "stdout",
          "text": [
            "Id                                                           11325\n",
            "SepalLengthCm                                                876.5\n",
            "SepalWidthCm                                                 458.1\n",
            "PetalLengthCm                                                563.8\n",
            "PetalWidthCm                                                 179.8\n",
            "Species          Iris-setosaIris-setosaIris-setosaIris-setosaIr...\n",
            "dtype: object\n"
          ]
        }
      ]
    },
    {
      "cell_type": "code",
      "source": [
        "data10=data.count()\n",
        "print(data10)"
      ],
      "metadata": {
        "id": "5UrFhDZNKdqv",
        "outputId": "a57a0c35-865e-4799-a500-7b050d2334b4",
        "colab": {
          "base_uri": "https://localhost:8080/"
        }
      },
      "execution_count": 24,
      "outputs": [
        {
          "output_type": "stream",
          "name": "stdout",
          "text": [
            "Id               150\n",
            "SepalLengthCm    150\n",
            "SepalWidthCm     150\n",
            "PetalLengthCm    150\n",
            "PetalWidthCm     150\n",
            "Species          150\n",
            "dtype: int64\n"
          ]
        }
      ]
    },
    {
      "cell_type": "markdown",
      "source": [
        "map function"
      ],
      "metadata": {
        "id": "mHXZyGTa_zIc"
      }
    },
    {
      "cell_type": "code",
      "source": [
        "map_sepal_width=data['SepalWidthCm'].map(lambda x:x*2)\n",
        "print(map_sepal_width)"
      ],
      "metadata": {
        "colab": {
          "base_uri": "https://localhost:8080/"
        },
        "id": "ucgUh55Y_yqK",
        "outputId": "1768810f-38f3-458d-d30a-e33bdcd1568e"
      },
      "execution_count": 26,
      "outputs": [
        {
          "output_type": "stream",
          "name": "stdout",
          "text": [
            "0      14.0\n",
            "1      12.0\n",
            "2      12.8\n",
            "3      12.4\n",
            "4      14.4\n",
            "       ... \n",
            "145    12.0\n",
            "146    10.0\n",
            "147    12.0\n",
            "148    13.6\n",
            "149    12.0\n",
            "Name: SepalWidthCm, Length: 150, dtype: float64\n"
          ]
        }
      ]
    },
    {
      "cell_type": "code",
      "source": [
        "filtered=data[data['SepalWidthCm'].apply(lambda x:x>7)]\n",
        "print(filtered)"
      ],
      "metadata": {
        "colab": {
          "base_uri": "https://localhost:8080/"
        },
        "id": "DT0CA4aWCyYb",
        "outputId": "0045ca43-5919-41d1-d4de-7eb67e6fadaa"
      },
      "execution_count": 27,
      "outputs": [
        {
          "output_type": "stream",
          "name": "stdout",
          "text": [
            "      Id  SepalLengthCm  SepalWidthCm  PetalLengthCm  PetalWidthCm  \\\n",
            "4      5            5.0           7.2            1.4           0.2   \n",
            "5      6            5.4           7.8            1.7           0.4   \n",
            "10    11            5.4           7.4            1.5           0.2   \n",
            "14    15            5.8           8.0            1.2           0.2   \n",
            "15    16            5.7           8.8            1.5           0.4   \n",
            "16    17            5.4           7.8            1.3           0.4   \n",
            "18    19            5.7           7.6            1.7           0.3   \n",
            "19    20            5.1           7.6            1.5           0.3   \n",
            "21    22            5.1           7.4            1.5           0.4   \n",
            "22    23            4.6           7.2            1.0           0.2   \n",
            "32    33            5.2           8.2            1.5           0.1   \n",
            "33    34            5.5           8.4            1.4           0.2   \n",
            "44    45            5.1           7.6            1.9           0.4   \n",
            "46    47            5.1           7.6            1.6           0.2   \n",
            "48    49            5.3           7.4            1.5           0.2   \n",
            "109  110            7.2           7.2            6.1           2.5   \n",
            "117  118            7.7           7.6            6.7           2.2   \n",
            "131  132            7.9           7.6            6.4           2.0   \n",
            "\n",
            "            Species  \n",
            "4       Iris-setosa  \n",
            "5       Iris-setosa  \n",
            "10      Iris-setosa  \n",
            "14      Iris-setosa  \n",
            "15      Iris-setosa  \n",
            "16      Iris-setosa  \n",
            "18      Iris-setosa  \n",
            "19      Iris-setosa  \n",
            "21      Iris-setosa  \n",
            "22      Iris-setosa  \n",
            "32      Iris-setosa  \n",
            "33      Iris-setosa  \n",
            "44      Iris-setosa  \n",
            "46      Iris-setosa  \n",
            "48      Iris-setosa  \n",
            "109  Iris-virginica  \n",
            "117  Iris-virginica  \n",
            "131  Iris-virginica  \n"
          ]
        }
      ]
    },
    {
      "cell_type": "code",
      "source": [
        "from functools import reduce\n",
        "data_sepal_width=reduce(lambda x,y:x+y,data['SepalWidthCm'])\n",
        "print(data_sepal_width)"
      ],
      "metadata": {
        "colab": {
          "base_uri": "https://localhost:8080/"
        },
        "id": "h05Wc9gzCOda",
        "outputId": "6c01fd5e-f270-45bc-b3db-70f697832fbb"
      },
      "execution_count": 28,
      "outputs": [
        {
          "output_type": "stream",
          "name": "stdout",
          "text": [
            "916.2000000000003\n"
          ]
        }
      ]
    },
    {
      "cell_type": "code",
      "source": [
        "import matplotlib.pyplot as plt\n",
        "total=data['SepalWidthCm']\n",
        "\n",
        "plt.plot(total,marker='o',label='total')\n",
        "plt.title('simple line plot')\n",
        "plt.xlabel('SepalWidthCm')\n",
        "plt.ylabel('frequency')\n",
        "plt.legend()\n",
        "plt.grid(True)\n",
        "plt.show()"
      ],
      "metadata": {
        "colab": {
          "base_uri": "https://localhost:8080/",
          "height": 472
        },
        "id": "zVttzYSkFBSE",
        "outputId": "92103cd1-8de0-43e3-828e-81d8cadf5938"
      },
      "execution_count": 41,
      "outputs": [
        {
          "output_type": "display_data",
          "data": {
            "text/plain": [
              "<Figure size 640x480 with 1 Axes>"
            ],
            "image/png": "[encoded data removed]"
          },
          "metadata": {}
        }
      ]
    },
    {
      "cell_type": "code",
      "source": [
        "import matplotlib.pyplot as plt\n",
        "dt=data['SepalWidthCm']\n",
        "\n",
        "plt.hist(dt,bins=10,edgecolor='black',alpha=0.9)\n",
        "plt.title('Histogram')\n",
        "plt.xlabel('SepalWidthCm')\n",
        "plt.ylabel('frequency')\n",
        "plt.show()"
      ],
      "metadata": {
        "colab": {
          "base_uri": "https://localhost:8080/",
          "height": 472
        },
        "id": "Zu1ugUowF5NT",
        "outputId": "7ff520b8-d674-4507-8c9c-e3237527e5a1"
      },
      "execution_count": 42,
      "outputs": [
        {
          "output_type": "display_data",
          "data": {
            "text/plain": [
              "<Figure size 640x480 with 1 Axes>"
            ],
            "image/png": "[encoded data removed]"
          },
          "metadata": {}
        }
      ]
    },
    {
      "cell_type": "code",
      "source": [
        "import matplotlib.pyplot as plt\n",
        "\n",
        "dt = data['SepalWidthCm']\n",
        "dt1 = data['PetalWidthCm']\n",
        "\n",
        "plt.scatter(dt, dt1, color='orange')\n",
        "plt.title('Scatter Plot')\n",
        "plt.xlabel('Sepal Width (cm)')\n",
        "plt.ylabel('Petal Width (cm)')\n",
        "plt.show()\n"
      ],
      "metadata": {
        "colab": {
          "base_uri": "https://localhost:8080/",
          "height": 472
        },
        "id": "sZBMy0J3HT7X",
        "outputId": "d03dbdbd-5a34-4bf7-924e-925cc958f47c"
      },
      "execution_count": 40,
      "outputs": [
        {
          "output_type": "display_data",
          "data": {
            "text/plain": [
              "<Figure size 640x480 with 1 Axes>"
            ],
            "image/png": "[encoded data removed]"
          },
          "metadata": {}
        }
      ]
    }
  ]
}