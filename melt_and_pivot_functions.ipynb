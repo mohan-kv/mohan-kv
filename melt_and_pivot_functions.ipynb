{
  "nbformat": 4,
  "nbformat_minor": 0,
  "metadata": {
    "colab": {
      "provenance": [],
      "authorship_tag": "ABX9TyN6MlJ9CjNC1P03w356OZn+",
      "include_colab_link": true
    },
    "kernelspec": {
      "name": "python3",
      "display_name": "Python 3"
    },
    "language_info": {
      "name": "python"
    }
  },
  "cells": [
    {
      "cell_type": "markdown",
      "metadata": {
        "id": "view-in-github",
        "colab_type": "text"
      },
      "source": [
        "<a href=\"https://colab.research.google.com/github/mohan-kv/mohan-kv/blob/main/melt_and_pivot_functions.ipynb\" target=\"_parent\"><img src=\"https://colab.research.google.com/assets/colab-badge.svg\" alt=\"Open In Colab\"/></a>"
      ]
    },
    {
      "cell_type": "code",
      "execution_count": null,
      "metadata": {
        "colab": {
          "base_uri": "https://localhost:8080/"
        },
        "id": "3-4BDfN2uS2H",
        "outputId": "28561bdf-cb03-43c3-f96f-57b5cb1fbc68"
      },
      "outputs": [
        {
          "output_type": "stream",
          "name": "stdout",
          "text": [
            "city        Delhi  Hyderabad\n",
            "date                        \n",
            "2021-01-01     30         50\n",
            "2021-01-02     31         55\n"
          ]
        }
      ],
      "source": [
        "import pandas as pd\n",
        "\n",
        "data = {\n",
        "    'date': ['2021-01-01', '2021-01-01', '2021-01-02', '2021-01-02'],\n",
        "    'city': ['Delhi', 'Hyderabad', 'Delhi', 'Hyderabad'],\n",
        "    'temperature': [30, 50, 31, 55]\n",
        "}\n",
        "\n",
        "df = pd.DataFrame(data)\n",
        "pivot_df = df.pivot(index='date', columns='city', values='temperature')\n",
        "print(pivot_df)\n"
      ]
    },
    {
      "cell_type": "code",
      "source": [
        "import pandas as pd\n",
        "\n",
        "data = {\n",
        "    'date': ['2021-01-01', '2021-01-02'],\n",
        "    'Banglore': [30, 31],\n",
        "    'Mumbai': [50, 55]\n",
        "}\n",
        "\n",
        "df = pd.DataFrame(data)\n",
        "melt_df = pd.melt(df, id_vars=['date'], var_name='city', value_name='temperature')\n",
        "print(melt_df)\n"
      ],
      "metadata": {
        "colab": {
          "base_uri": "https://localhost:8080/"
        },
        "id": "mobPSzqSu7mf",
        "outputId": "4c91bf6e-728b-451b-daad-40473ee18857"
      },
      "execution_count": null,
      "outputs": [
        {
          "output_type": "stream",
          "name": "stdout",
          "text": [
            "         date      city  temperature\n",
            "0  2021-01-01  Banglore           30\n",
            "1  2021-01-02  Banglore           31\n",
            "2  2021-01-01    Mumbai           50\n",
            "3  2021-01-02    Mumbai           55\n"
          ]
        }
      ]
    }
  ]
}