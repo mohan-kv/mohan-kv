{
  "nbformat": 4,
  "nbformat_minor": 0,
  "metadata": {
    "colab": {
      "provenance": [],
      "authorship_tag": "ABX9TyNOlhcwxIWdJXfMUJlaaXCp",
      "include_colab_link": true
    },
    "kernelspec": {
      "name": "python3",
      "display_name": "Python 3"
    },
    "language_info": {
      "name": "python"
    }
  },
  "cells": [
    {
      "cell_type": "markdown",
      "metadata": {
        "id": "view-in-github",
        "colab_type": "text"
      },
      "source": [
        "<a href=\"https://colab.research.google.com/github/mohan-kv/mohan-kv/blob/main/Data_cleaning.ipynb\" target=\"_parent\"><img src=\"https://colab.research.google.com/assets/colab-badge.svg\" alt=\"Open In Colab\"/></a>"
      ]
    },
    {
      "cell_type": "code",
      "execution_count": 28,
      "metadata": {
        "colab": {
          "base_uri": "https://localhost:8080/"
        },
        "id": "lP-XkQ13QgLx",
        "outputId": "87b7fbfc-90bd-455d-ec7d-8e6cb8b2ae64"
      },
      "outputs": [
        {
          "output_type": "stream",
          "name": "stdout",
          "text": [
            "   RAID  Points  J NO\n",
            "0  10.0     1.0    18\n",
            "1   NaN     2.0    17\n",
            "2  30.0     3.0    45\n",
            "3   NaN     NaN    93\n",
            "4  50.0     5.0   120\n"
          ]
        }
      ],
      "source": [
        "import pandas as pd\n",
        "import numpy as np\n",
        "\n",
        "d1={'RAID':[10,np.nan,30,np.nan,50],\n",
        "      'Points':[1,2,3,np.nan,5],\n",
        "      'J NO':[18,17,45,93,120]\n",
        "    }\n",
        "data=pd.DataFrame(d1)\n",
        "print(data)"
      ]
    },
    {
      "cell_type": "markdown",
      "source": [
        "**Assess Data Quality**\n",
        "\n",
        "Evaluate the overall structure and information of the dataset, including data types, non-null counts, and column names to ensure the data is suitable for analysis."
      ],
      "metadata": {
        "id": "nxCGhZ5XS0_t"
      }
    },
    {
      "cell_type": "code",
      "source": [
        "print(data.info())"
      ],
      "metadata": {
        "colab": {
          "base_uri": "https://localhost:8080/"
        },
        "id": "i1yHOcfySTuH",
        "outputId": "90ed389a-3868-4e9e-fd9b-0fca88a7303a"
      },
      "execution_count": null,
      "outputs": [
        {
          "output_type": "stream",
          "name": "stdout",
          "text": [
            "<class 'pandas.core.frame.DataFrame'>\n",
            "RangeIndex: 5 entries, 0 to 4\n",
            "Data columns (total 3 columns):\n",
            " #   Column  Non-Null Count  Dtype  \n",
            "---  ------  --------------  -----  \n",
            " 0   RAID    3 non-null      float64\n",
            " 1   Points  4 non-null      float64\n",
            " 2   J NO    5 non-null      int64  \n",
            "dtypes: float64(2), int64(1)\n",
            "memory usage: 248.0 bytes\n",
            "None\n"
          ]
        }
      ]
    },
    {
      "cell_type": "markdown",
      "source": [
        "**Detect Missing Values**\n",
        "\n",
        "Identify columns or rows with absent data entries using methods like .isna() to check for NaN values and .info() to get a summary of the dataset."
      ],
      "metadata": {
        "id": "ZJo30VfsTCsY"
      }
    },
    {
      "cell_type": "code",
      "source": [
        "print(data.isna().sum())"
      ],
      "metadata": {
        "colab": {
          "base_uri": "https://localhost:8080/"
        },
        "id": "clPJZXVBS-kv",
        "outputId": "8f0a7321-4bfa-40e7-d0c9-8d3d45a2c6ff"
      },
      "execution_count": null,
      "outputs": [
        {
          "output_type": "stream",
          "name": "stdout",
          "text": [
            "RAID      2\n",
            "Points    1\n",
            "J NO      0\n",
            "dtype: int64\n"
          ]
        }
      ]
    },
    {
      "cell_type": "markdown",
      "source": [
        "**Diagnose type of missing values\n",
        "Visual method is Heatmap**\n",
        "\n",
        "Use heatmaps to visually identify the distribution and pattern of missing values across the dataset."
      ],
      "metadata": {
        "id": "m09dAqT8XX2f"
      }
    },
    {
      "cell_type": "code",
      "source": [
        "import seaborn as sns\n",
        "import matplotlib.pyplot as plt\n",
        "\n",
        "sns.heatmap(data.isna(),cbar=False,cmap='Blues')\n",
        "plt.title('Heatmap of missing values')\n",
        "plt.ylabel('Index')\n",
        "plt.show()"
      ],
      "metadata": {
        "colab": {
          "base_uri": "https://localhost:8080/",
          "height": 452
        },
        "id": "J1NJO1_zTFs8",
        "outputId": "a7f4e899-8f2e-4459-c30d-1cfadedfa1a5"
      },
      "execution_count": null,
      "outputs": [
        {
          "output_type": "display_data",
          "data": {
            "text/plain": [
              "<Figure size 640x480 with 1 Axes>"
            ],
            "image/png": "[encoded data removed]"
          },
          "metadata": {}
        }
      ]
    },
    {
      "cell_type": "markdown",
      "source": [
        "**statistical methods (eg. chi-squared test of\n",
        "independence)**\n",
        "\n",
        "Test the relationship between missing values and other categorical variables to determine if they are independent or associated."
      ],
      "metadata": {
        "id": "SGYyAaxJY6-5"
      }
    },
    {
      "cell_type": "code",
      "source": [
        "from scipy.stats import chi2_contingency\n",
        "chi2,p,dof,expected=chi2_contingency(pd.crosstab(data['RAID'].isna(),data['J NO']))\n",
        "print(\"P-value:\",p)"
      ],
      "metadata": {
        "colab": {
          "base_uri": "https://localhost:8080/"
        },
        "id": "GOTJj4R3YRiS",
        "outputId": "1edcfdd8-d297-4766-8d04-55033bb0b2b0"
      },
      "execution_count": null,
      "outputs": [
        {
          "output_type": "stream",
          "name": "stdout",
          "text": [
            "P-value: 0.2872974951836458\n"
          ]
        }
      ]
    },
    {
      "cell_type": "markdown",
      "source": [
        "**1. Keep the Missing Value As Is**\n",
        "\n",
        "Leave missing values unchanged in the dataset."
      ],
      "metadata": {
        "id": "DuHBhskoe0XC"
      }
    },
    {
      "cell_type": "code",
      "source": [
        "print(\"DataFrame with missing values kept:\\n\",data)"
      ],
      "metadata": {
        "colab": {
          "base_uri": "https://localhost:8080/"
        },
        "id": "f7oH6Ilncyh4",
        "outputId": "135322a9-ad54-4ce6-a62a-16979e281200"
      },
      "execution_count": null,
      "outputs": [
        {
          "output_type": "stream",
          "name": "stdout",
          "text": [
            "DataFrame with missing values kept:\n",
            "    RAID  Points  J NO\n",
            "0  10.0     1.0    18\n",
            "1   NaN     2.0    17\n",
            "2  30.0     3.0    45\n",
            "3   NaN     NaN    93\n",
            "4  50.0     5.0   100\n"
          ]
        }
      ]
    },
    {
      "cell_type": "markdown",
      "source": [
        "**2. Remove Data Objects with Missing Values**\n",
        "\n",
        "Delete rows that contain any missing values."
      ],
      "metadata": {
        "id": "BOvkIe6Ue3zH"
      }
    },
    {
      "cell_type": "code",
      "source": [
        "dr=data.dropna()\n",
        "print(\"DataFrame with rows with missing values removed:\\n\",dr)"
      ],
      "metadata": {
        "colab": {
          "base_uri": "https://localhost:8080/"
        },
        "id": "J-dwvWsreqCo",
        "outputId": "ba4acc54-dfb5-4bd4-c991-324193669445"
      },
      "execution_count": null,
      "outputs": [
        {
          "output_type": "stream",
          "name": "stdout",
          "text": [
            "DataFrame with rows with missing values removed:\n",
            "    RAID  Points  J NO\n",
            "0  10.0     1.0    18\n",
            "2  30.0     3.0    45\n",
            "4  50.0     5.0   100\n"
          ]
        }
      ]
    },
    {
      "cell_type": "markdown",
      "source": [
        "\n",
        " **3. Remove Attributes with Missing Values**\n",
        "\n",
        " Delete columns that contain any missing values."
      ],
      "metadata": {
        "id": "NS7zGmlKfSAz"
      }
    },
    {
      "cell_type": "code",
      "source": [
        "dc=data.dropna(axis=1)\n",
        "print(\"DataFrame with columns with missing values removed:\\n\",dc)"
      ],
      "metadata": {
        "colab": {
          "base_uri": "https://localhost:8080/"
        },
        "id": "tZn7rYXBfDHs",
        "outputId": "7b23e189-f6b1-49e8-a24d-2a38ef60cf27"
      },
      "execution_count": null,
      "outputs": [
        {
          "output_type": "stream",
          "name": "stdout",
          "text": [
            "DataFrame with columns with missing values removed:\n",
            "    J NO\n",
            "0    18\n",
            "1    17\n",
            "2    45\n",
            "3    93\n",
            "4   100\n"
          ]
        }
      ]
    },
    {
      "cell_type": "markdown",
      "source": [
        "**4. Estimate and Impute Missing Values**"
      ],
      "metadata": {
        "id": "fD6GMpWfgj3J"
      }
    },
    {
      "cell_type": "markdown",
      "source": [
        "mean imputation: replace missing values with the mean of the respective column."
      ],
      "metadata": {
        "id": "2ep1_cw2hVYh"
      }
    },
    {
      "cell_type": "code",
      "source": [
        "dim=data.fillna(data.mean())\n",
        "print(\"DataFrame with missing values imputed using mean:\\n\",dim)"
      ],
      "metadata": {
        "colab": {
          "base_uri": "https://localhost:8080/"
        },
        "id": "3NgCADqefYVq",
        "outputId": "8f9f0f12-51e2-4071-d1e7-0dbc65103dfc"
      },
      "execution_count": null,
      "outputs": [
        {
          "output_type": "stream",
          "name": "stdout",
          "text": [
            "DataFrame with missing values imputed using mean:\n",
            "    RAID  Points  J NO\n",
            "0  10.0    1.00    18\n",
            "1  30.0    2.00    17\n",
            "2  30.0    3.00    45\n",
            "3  30.0    2.75    93\n",
            "4  50.0    5.00   100\n"
          ]
        }
      ]
    },
    {
      "cell_type": "markdown",
      "source": [
        "median imputation: replace missing values with the median of the respective column."
      ],
      "metadata": {
        "id": "wTLJbYU-hapq"
      }
    },
    {
      "cell_type": "code",
      "source": [
        "dim1=data.fillna(data.median())\n",
        "print(\"DataFrame with missing values imputed using median:\\n\",dim1)"
      ],
      "metadata": {
        "colab": {
          "base_uri": "https://localhost:8080/"
        },
        "id": "QM1fxPAdgEFQ",
        "outputId": "6e940255-00c9-4a2e-8e30-d526ecede32a"
      },
      "execution_count": null,
      "outputs": [
        {
          "output_type": "stream",
          "name": "stdout",
          "text": [
            "DataFrame with missing values imputed using median:\n",
            "    RAID  Points  J NO\n",
            "0  10.0     1.0    18\n",
            "1  30.0     2.0    17\n",
            "2  30.0     3.0    45\n",
            "3  30.0     2.5    93\n",
            "4  50.0     5.0   100\n"
          ]
        }
      ]
    },
    {
      "cell_type": "markdown",
      "source": [
        "mode imputation: replace missing values with the mode (most frequent value) of the respective column."
      ],
      "metadata": {
        "id": "KXImwH-phmNB"
      }
    },
    {
      "cell_type": "code",
      "source": [
        "dim2=data.fillna(data.mode().iloc[0])\n",
        "print(\"DataFrame with missing values imputed using mode:\\n\",dim2)"
      ],
      "metadata": {
        "colab": {
          "base_uri": "https://localhost:8080/"
        },
        "id": "NM8S6kMAgejK",
        "outputId": "7da55359-871a-40d9-edaf-825de3d93807"
      },
      "execution_count": null,
      "outputs": [
        {
          "output_type": "stream",
          "name": "stdout",
          "text": [
            "DataFrame with missing values imputed using mode:\n",
            "    RAID  Points  J NO\n",
            "0  10.0     1.0    18\n",
            "1  10.0     2.0    17\n",
            "2  30.0     3.0    45\n",
            "3  10.0     1.0    93\n",
            "4  50.0     5.0   100\n"
          ]
        }
      ]
    },
    {
      "cell_type": "markdown",
      "source": [
        "**5.Inetrpolation:**The process of estimating anbd filling in missing data points within a dataset based on the surrounding data"
      ],
      "metadata": {
        "id": "_6v8fHy38k75"
      }
    },
    {
      "cell_type": "code",
      "source": [
        "data.interpolate()"
      ],
      "metadata": {
        "colab": {
          "base_uri": "https://localhost:8080/",
          "height": 206
        },
        "id": "XJFK_vLV77Gv",
        "outputId": "ce82fcd3-c94a-49f8-d2f2-53be84d54269"
      },
      "execution_count": null,
      "outputs": [
        {
          "output_type": "execute_result",
          "data": {
            "text/plain": [
              "   RAID  Points  J NO\n",
              "0  10.0     1.0    18\n",
              "1  20.0     2.0    17\n",
              "2  30.0     3.0    45\n",
              "3  40.0     4.0    93\n",
              "4  50.0     5.0   120"
            ],
            "text/html": [
              "\n",
              "  <div id=\"df-8e739aae-c335-4a66-9b55-7466e15b1e9f\" class=\"colab-df-container\">\n",
              "    <div>\n",
              "<style scoped>\n",
              "    .dataframe tbody tr th:only-of-type {\n",
              "        vertical-align: middle;\n",
              "    }\n",
              "\n",
              "    .dataframe tbody tr th {\n",
              "        vertical-align: top;\n",
              "    }\n",
              "\n",
              "    .dataframe thead th {\n",
              "        text-align: right;\n",
              "    }\n",
              "</style>\n",
              "<table border=\"1\" class=\"dataframe\">\n",
              "  <thead>\n",
              "    <tr style=\"text-align: right;\">\n",
              "      <th></th>\n",
              "      <th>RAID</th>\n",
              "      <th>Points</th>\n",
              "      <th>J NO</th>\n",
              "    </tr>\n",
              "  </thead>\n",
              "  <tbody>\n",
              "    <tr>\n",
              "      <th>0</th>\n",
              "      <td>10.0</td>\n",
              "      <td>1.0</td>\n",
              "      <td>18</td>\n",
              "    </tr>\n",
              "    <tr>\n",
              "      <th>1</th>\n",
              "      <td>20.0</td>\n",
              "      <td>2.0</td>\n",
              "      <td>17</td>\n",
              "    </tr>\n",
              "    <tr>\n",
              "      <th>2</th>\n",
              "      <td>30.0</td>\n",
              "      <td>3.0</td>\n",
              "      <td>45</td>\n",
              "    </tr>\n",
              "    <tr>\n",
              "      <th>3</th>\n",
              "      <td>40.0</td>\n",
              "      <td>4.0</td>\n",
              "      <td>93</td>\n",
              "    </tr>\n",
              "    <tr>\n",
              "      <th>4</th>\n",
              "      <td>50.0</td>\n",
              "      <td>5.0</td>\n",
              "      <td>120</td>\n",
              "    </tr>\n",
              "  </tbody>\n",
              "</table>\n",
              "</div>\n",
              "    <div class=\"colab-df-buttons\">\n",
              "\n",
              "  <div class=\"colab-df-container\">\n",
              "    <button class=\"colab-df-convert\" onclick=\"convertToInteractive('df-8e739aae-c335-4a66-9b55-7466e15b1e9f')\"\n",
              "            title=\"Convert this dataframe to an interactive table.\"\n",
              "            style=\"display:none;\">\n",
              "\n",
              "  <svg xmlns=\"http://www.w3.org/2000/svg\" height=\"24px\" viewBox=\"0 -960 960 960\">\n",
              "    <path d=\"M120-120v-720h720v720H120Zm60-500h600v-160H180v160Zm220 220h160v-160H400v160Zm0 220h160v-160H400v160ZM180-400h160v-160H180v160Zm440 0h160v-160H620v160ZM180-180h160v-160H180v160Zm440 0h160v-160H620v160Z\"/>\n",
              "  </svg>\n",
              "    </button>\n",
              "\n",
              "  <style>\n",
              "    .colab-df-container {\n",
              "      display:flex;\n",
              "      gap: 12px;\n",
              "    }\n",
              "\n",
              "    .colab-df-convert {\n",
              "      background-color: #E8F0FE;\n",
              "      border: none;\n",
              "      border-radius: 50%;\n",
              "      cursor: pointer;\n",
              "      display: none;\n",
              "      fill: #1967D2;\n",
              "      height: 32px;\n",
              "      padding: 0 0 0 0;\n",
              "      width: 32px;\n",
              "    }\n",
              "\n",
              "    .colab-df-convert:hover {\n",
              "      background-color: #E2EBFA;\n",
              "      box-shadow: 0px 1px 2px rgba(60, 64, 67, 0.3), 0px 1px 3px 1px rgba(60, 64, 67, 0.15);\n",
              "      fill: #174EA6;\n",
              "    }\n",
              "\n",
              "    .colab-df-buttons div {\n",
              "      margin-bottom: 4px;\n",
              "    }\n",
              "\n",
              "    [theme=dark] .colab-df-convert {\n",
              "      background-color: #3B4455;\n",
              "      fill: #D2E3FC;\n",
              "    }\n",
              "\n",
              "    [theme=dark] .colab-df-convert:hover {\n",
              "      background-color: #434B5C;\n",
              "      box-shadow: 0px 1px 3px 1px rgba(0, 0, 0, 0.15);\n",
              "      filter: drop-shadow(0px 1px 2px rgba(0, 0, 0, 0.3));\n",
              "      fill: #FFFFFF;\n",
              "    }\n",
              "  </style>\n",
              "\n",
              "    <script>\n",
              "      const buttonEl =\n",
              "        document.querySelector('#df-8e739aae-c335-4a66-9b55-7466e15b1e9f button.colab-df-convert');\n",
              "      buttonEl.style.display =\n",
              "        google.colab.kernel.accessAllowed ? 'block' : 'none';\n",
              "\n",
              "      async function convertToInteractive(key) {\n",
              "        const element = document.querySelector('#df-8e739aae-c335-4a66-9b55-7466e15b1e9f');\n",
              "        const dataTable =\n",
              "          await google.colab.kernel.invokeFunction('convertToInteractive',\n",
              "                                                    [key], {});\n",
              "        if (!dataTable) return;\n",
              "\n",
              "        const docLinkHtml = 'Like what you see? Visit the ' +\n",
              "          '<a target=\"_blank\" href=https://colab.research.google.com/notebooks/data_table.ipynb>data table notebook</a>'\n",
              "          + ' to learn more about interactive tables.';\n",
              "        element.innerHTML = '';\n",
              "        dataTable['output_type'] = 'display_data';\n",
              "        await google.colab.output.renderOutput(dataTable, element);\n",
              "        const docLink = document.createElement('div');\n",
              "        docLink.innerHTML = docLinkHtml;\n",
              "        element.appendChild(docLink);\n",
              "      }\n",
              "    </script>\n",
              "  </div>\n",
              "\n",
              "\n",
              "<div id=\"df-97b44b8e-0632-4be6-b338-9107f69e8201\">\n",
              "  <button class=\"colab-df-quickchart\" onclick=\"quickchart('df-97b44b8e-0632-4be6-b338-9107f69e8201')\"\n",
              "            title=\"Suggest charts\"\n",
              "            style=\"display:none;\">\n",
              "\n",
              "<svg xmlns=\"http://www.w3.org/2000/svg\" height=\"24px\"viewBox=\"0 0 24 24\"\n",
              "     width=\"24px\">\n",
              "    <g>\n",
              "        <path d=\"M19 3H5c-1.1 0-2 .9-2 2v14c0 1.1.9 2 2 2h14c1.1 0 2-.9 2-2V5c0-1.1-.9-2-2-2zM9 17H7v-7h2v7zm4 0h-2V7h2v10zm4 0h-2v-4h2v4z\"/>\n",
              "    </g>\n",
              "</svg>\n",
              "  </button>\n",
              "\n",
              "<style>\n",
              "  .colab-df-quickchart {\n",
              "      --bg-color: #E8F0FE;\n",
              "      --fill-color: #1967D2;\n",
              "      --hover-bg-color: #E2EBFA;\n",
              "      --hover-fill-color: #174EA6;\n",
              "      --disabled-fill-color: #AAA;\n",
              "      --disabled-bg-color: #DDD;\n",
              "  }\n",
              "\n",
              "  [theme=dark] .colab-df-quickchart {\n",
              "      --bg-color: #3B4455;\n",
              "      --fill-color: #D2E3FC;\n",
              "      --hover-bg-color: #434B5C;\n",
              "      --hover-fill-color: #FFFFFF;\n",
              "      --disabled-bg-color: #3B4455;\n",
              "      --disabled-fill-color: #666;\n",
              "  }\n",
              "\n",
              "  .colab-df-quickchart {\n",
              "    background-color: var(--bg-color);\n",
              "    border: none;\n",
              "    border-radius: 50%;\n",
              "    cursor: pointer;\n",
              "    display: none;\n",
              "    fill: var(--fill-color);\n",
              "    height: 32px;\n",
              "    padding: 0;\n",
              "    width: 32px;\n",
              "  }\n",
              "\n",
              "  .colab-df-quickchart:hover {\n",
              "    background-color: var(--hover-bg-color);\n",
              "    box-shadow: 0 1px 2px rgba(60, 64, 67, 0.3), 0 1px 3px 1px rgba(60, 64, 67, 0.15);\n",
              "    fill: var(--button-hover-fill-color);\n",
              "  }\n",
              "\n",
              "  .colab-df-quickchart-complete:disabled,\n",
              "  .colab-df-quickchart-complete:disabled:hover {\n",
              "    background-color: var(--disabled-bg-color);\n",
              "    fill: var(--disabled-fill-color);\n",
              "    box-shadow: none;\n",
              "  }\n",
              "\n",
              "  .colab-df-spinner {\n",
              "    border: 2px solid var(--fill-color);\n",
              "    border-color: transparent;\n",
              "    border-bottom-color: var(--fill-color);\n",
              "    animation:\n",
              "      spin 1s steps(1) infinite;\n",
              "  }\n",
              "\n",
              "  @keyframes spin {\n",
              "    0% {\n",
              "      border-color: transparent;\n",
              "      border-bottom-color: var(--fill-color);\n",
              "      border-left-color: var(--fill-color);\n",
              "    }\n",
              "    20% {\n",
              "      border-color: transparent;\n",
              "      border-left-color: var(--fill-color);\n",
              "      border-top-color: var(--fill-color);\n",
              "    }\n",
              "    30% {\n",
              "      border-color: transparent;\n",
              "      border-left-color: var(--fill-color);\n",
              "      border-top-color: var(--fill-color);\n",
              "      border-right-color: var(--fill-color);\n",
              "    }\n",
              "    40% {\n",
              "      border-color: transparent;\n",
              "      border-right-color: var(--fill-color);\n",
              "      border-top-color: var(--fill-color);\n",
              "    }\n",
              "    60% {\n",
              "      border-color: transparent;\n",
              "      border-right-color: var(--fill-color);\n",
              "    }\n",
              "    80% {\n",
              "      border-color: transparent;\n",
              "      border-right-color: var(--fill-color);\n",
              "      border-bottom-color: var(--fill-color);\n",
              "    }\n",
              "    90% {\n",
              "      border-color: transparent;\n",
              "      border-bottom-color: var(--fill-color);\n",
              "    }\n",
              "  }\n",
              "</style>\n",
              "\n",
              "  <script>\n",
              "    async function quickchart(key) {\n",
              "      const quickchartButtonEl =\n",
              "        document.querySelector('#' + key + ' button');\n",
              "      quickchartButtonEl.disabled = true;  // To prevent multiple clicks.\n",
              "      quickchartButtonEl.classList.add('colab-df-spinner');\n",
              "      try {\n",
              "        const charts = await google.colab.kernel.invokeFunction(\n",
              "            'suggestCharts', [key], {});\n",
              "      } catch (error) {\n",
              "        console.error('Error during call to suggestCharts:', error);\n",
              "      }\n",
              "      quickchartButtonEl.classList.remove('colab-df-spinner');\n",
              "      quickchartButtonEl.classList.add('colab-df-quickchart-complete');\n",
              "    }\n",
              "    (() => {\n",
              "      let quickchartButtonEl =\n",
              "        document.querySelector('#df-97b44b8e-0632-4be6-b338-9107f69e8201 button');\n",
              "      quickchartButtonEl.style.display =\n",
              "        google.colab.kernel.accessAllowed ? 'block' : 'none';\n",
              "    })();\n",
              "  </script>\n",
              "</div>\n",
              "\n",
              "    </div>\n",
              "  </div>\n"
            ],
            "application/vnd.google.colaboratory.intrinsic+json": {
              "type": "dataframe",
              "summary": "{\n  \"name\": \"data\",\n  \"rows\": 5,\n  \"fields\": [\n    {\n      \"column\": \"RAID\",\n      \"properties\": {\n        \"dtype\": \"number\",\n        \"std\": 15.811388300841896,\n        \"min\": 10.0,\n        \"max\": 50.0,\n        \"num_unique_values\": 5,\n        \"samples\": [\n          20.0,\n          50.0,\n          30.0\n        ],\n        \"semantic_type\": \"\",\n        \"description\": \"\"\n      }\n    },\n    {\n      \"column\": \"Points\",\n      \"properties\": {\n        \"dtype\": \"number\",\n        \"std\": 1.5811388300841898,\n        \"min\": 1.0,\n        \"max\": 5.0,\n        \"num_unique_values\": 5,\n        \"samples\": [\n          2.0,\n          5.0,\n          3.0\n        ],\n        \"semantic_type\": \"\",\n        \"description\": \"\"\n      }\n    },\n    {\n      \"column\": \"J NO\",\n      \"properties\": {\n        \"dtype\": \"number\",\n        \"std\": 46,\n        \"min\": 17,\n        \"max\": 120,\n        \"num_unique_values\": 5,\n        \"samples\": [\n          17,\n          120,\n          45\n        ],\n        \"semantic_type\": \"\",\n        \"description\": \"\"\n      }\n    }\n  ]\n}"
            }
          },
          "metadata": {},
          "execution_count": 4
        }
      ]
    },
    {
      "cell_type": "markdown",
      "source": [],
      "metadata": {
        "id": "ZxI2UBUtm4Cw"
      }
    },
    {
      "cell_type": "markdown",
      "source": [
        "# **Dealing with outliers**\n",
        "\n",
        "\n"
      ],
      "metadata": {
        "id": "G43OdSL1iw8F"
      }
    },
    {
      "cell_type": "markdown",
      "source": [
        "**Do Nothing:** Leave the dataset unchanged, including outliers."
      ],
      "metadata": {
        "id": "rNrvAtf9tQGR"
      }
    },
    {
      "cell_type": "code",
      "source": [
        "print(\"DataFrame with Outliers kept as is:\\n\",data)\n"
      ],
      "metadata": {
        "colab": {
          "base_uri": "https://localhost:8080/"
        },
        "id": "mxDD-pDOirXC",
        "outputId": "a2c48853-b82b-42fa-87a1-91ed51773c09"
      },
      "execution_count": null,
      "outputs": [
        {
          "output_type": "stream",
          "name": "stdout",
          "text": [
            "DataFrame with Outliers kept as is:\n",
            "    RAID  Points  J NO\n",
            "0  10.0     1.0    18\n",
            "1   NaN     2.0    17\n",
            "2  30.0     3.0    45\n",
            "3   NaN     NaN    93\n",
            "4  50.0     5.0   100\n"
          ]
        }
      ]
    },
    {
      "cell_type": "markdown",
      "source": [
        "**Replace with Upper/Lower Cap:** Cap extreme values at a defined maximum (upper cap) or minimum (lower cap) to limit their influence."
      ],
      "metadata": {
        "id": "WdE92wIvtUQT"
      }
    },
    {
      "cell_type": "code",
      "source": [
        "import pandas as pd\n",
        "import numpy as np\n",
        "\n",
        "Q1=data['J NO'].quantile(0.25)\n",
        "Q3=data['J NO'].quantile(0.75)\n",
        "IQR=Q3 - Q1\n",
        "lcap= Q1 - 1.5 * IQR\n",
        "ucap= Q3 + 1.5 * IQR\n",
        "\n",
        "print(\"Q1 (25th percentile):\",Q1)\n",
        "print(\"Q3 (75th percentile):\",Q3)\n",
        "print(\"IQR (Interquartile Range):\",IQR)\n",
        "print(\"Lower Cap:\",lcap)\n",
        "print(\"Upper Cap:\",ucap)"
      ],
      "metadata": {
        "colab": {
          "base_uri": "https://localhost:8080/"
        },
        "id": "iXz7r0gakkJT",
        "outputId": "c2a4b339-eae3-435d-dc47-c4e46ffbbd0b"
      },
      "execution_count": 27,
      "outputs": [
        {
          "output_type": "stream",
          "name": "stdout",
          "text": [
            "Q1 (25th percentile): 18.0\n",
            "Q3 (75th percentile): 93.0\n",
            "IQR (Interquartile Range): 75.0\n",
            "Lower Cap: -94.5\n",
            "Upper Cap: 205.5\n"
          ]
        }
      ]
    },
    {
      "cell_type": "code",
      "source": [
        "lowercap=10\n",
        "uppercap=100\n",
        "d=data.clip(lower=lowercap,upper=uppercap)\n",
        "print(d)"
      ],
      "metadata": {
        "colab": {
          "base_uri": "https://localhost:8080/"
        },
        "id": "csbirkcVkYNg",
        "outputId": "cbd2f9b6-f889-48e4-eaad-446a51914e78"
      },
      "execution_count": 26,
      "outputs": [
        {
          "output_type": "stream",
          "name": "stdout",
          "text": [
            "   RAID  Points  J NO\n",
            "0  10.0    10.0    18\n",
            "1   NaN    10.0    17\n",
            "2  30.0    10.0    45\n",
            "3   NaN     NaN    93\n",
            "4  50.0    10.0   100\n"
          ]
        }
      ]
    },
    {
      "cell_type": "markdown",
      "source": [
        "**Perform Log Transformation:** Apply a logarithmic transformation to reduce the impact of extreme values."
      ],
      "metadata": {
        "id": "aoCbJtDgtWXU"
      }
    },
    {
      "cell_type": "code",
      "source": [
        "dlog=data.copy()\n",
        "dlog['RAID']=np.log(dlog['RAID'].fillna(1))\n",
        "\n",
        "print(\"DataFrame with 'RAID' log transformation:\\n\",dlog)\n"
      ],
      "metadata": {
        "colab": {
          "base_uri": "https://localhost:8080/"
        },
        "id": "BVKIXIrfq-HQ",
        "outputId": "426085b4-3894-4ff9-d653-f390543da1a8"
      },
      "execution_count": null,
      "outputs": [
        {
          "output_type": "stream",
          "name": "stdout",
          "text": [
            "DataFrame with 'RAID' log transformation:\n",
            "        RAID  Points  J NO\n",
            "0  2.302585     1.0    18\n",
            "1  0.000000     2.0    17\n",
            "2  3.401197     3.0     7\n",
            "3  0.000000     NaN    93\n",
            "4  3.912023     5.0   100\n"
          ]
        }
      ]
    },
    {
      "cell_type": "markdown",
      "source": [
        "**Remove Data Objects with Outliers:** Eliminate rows from a dataset where any column value is flagged as an outlier based on a specified criterion, such as Z-scores exceeding a threshold"
      ],
      "metadata": {
        "id": "EOUkYP2Etdkh"
      }
    },
    {
      "cell_type": "code",
      "source": [
        "import pandas as pd\n",
        "import numpy as np\n",
        "\n",
        "df = pd.DataFrame({\n",
        "    'RAID': [10, 20, 30, 40, 50, 1000],\n",
        "    'Points': [111, 221, 321, 423, 511, 5000],\n",
        "    'J': [18, 17, 45, 93, 120, 999]\n",
        "})\n",
        "\n",
        "zrs=(df - df.mean()) / df.std()\n",
        "print(\"Z-scores:\",zrs)\n",
        "dfno=df[(np.abs(zrs) < 2).all(axis=1)]\n",
        "\n",
        "print(\"\\nDataFrame after removing outliers with threshold of 2:\")\n",
        "print(dfno)\n"
      ],
      "metadata": {
        "colab": {
          "base_uri": "https://localhost:8080/"
        },
        "id": "V3VkByGtuJUa",
        "outputId": "5df4064f-7998-4fce-c423-3a3dc73c606c"
      },
      "execution_count": 25,
      "outputs": [
        {
          "output_type": "stream",
          "name": "stdout",
          "text": [
            "Z-scores:        RAID    Points         J\n",
            "0 -0.458461 -0.514803 -0.511056\n",
            "1 -0.433225 -0.457419 -0.513646\n",
            "2 -0.407988 -0.405252 -0.441131\n",
            "3 -0.382752 -0.352041 -0.316820\n",
            "4 -0.357515 -0.306134 -0.246895\n",
            "5  2.039941  2.035649  2.029547\n",
            "\n",
            "DataFrame after removing outliers with threshold of 2:\n",
            "   RAID  Points    J\n",
            "0    10     111   18\n",
            "1    20     221   17\n",
            "2    30     321   45\n",
            "3    40     423   93\n",
            "4    50     511  120\n"
          ]
        }
      ]
    }
  ]
}