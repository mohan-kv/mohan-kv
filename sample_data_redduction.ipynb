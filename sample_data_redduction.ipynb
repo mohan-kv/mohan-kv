{
  "nbformat": 4,
  "nbformat_minor": 0,
  "metadata": {
    "colab": {
      "provenance": [],
      "authorship_tag": "ABX9TyMr3N7j/Z/Mx0ywnNzmMbkJ",
      "include_colab_link": true
    },
    "kernelspec": {
      "name": "python3",
      "display_name": "Python 3"
    },
    "language_info": {
      "name": "python"
    }
  },
  "cells": [
    {
      "cell_type": "markdown",
      "metadata": {
        "id": "view-in-github",
        "colab_type": "text"
      },
      "source": [
        "<a href=\"https://colab.research.google.com/github/mohan-kv/mohan-kv/blob/main/sample_data_redduction.ipynb\" target=\"_parent\"><img src=\"https://colab.research.google.com/assets/colab-badge.svg\" alt=\"Open In Colab\"/></a>"
      ]
    },
    {
      "cell_type": "code",
      "execution_count": null,
      "metadata": {
        "colab": {
          "base_uri": "https://localhost:8080/"
        },
        "id": "Ek7rFNTpi9ur",
        "outputId": "ae053b6b-719e-4ae8-c552-9f4dc53c25c2"
      },
      "outputs": [
        {
          "output_type": "stream",
          "name": "stdout",
          "text": [
            "   Days  Months\n",
            "0   212       7\n",
            "1   243       8\n",
            "2   273       9\n",
            "3   304      10\n",
            "4   335      11\n",
            "5   365      12\n"
          ]
        }
      ],
      "source": [
        "import pandas as pd\n",
        "\n",
        "d1={'Days':[212,243,273,304,335,365],\n",
        "    'Months':[7,8,9,10,11,12]}\n",
        "data=pd.DataFrame(d1)\n",
        "print(data)"
      ]
    },
    {
      "cell_type": "code",
      "source": [
        "ds=data.sample(frac=0.2,random_state=1)\n",
        "print(\"Original dataframe:\\n\",data)\n",
        "print(\"reduction data:\\n\",ds)"
      ],
      "metadata": {
        "colab": {
          "base_uri": "https://localhost:8080/"
        },
        "id": "k8QmZDnikuP2",
        "outputId": "557ae584-6097-4b6d-b162-132364ff5634"
      },
      "execution_count": null,
      "outputs": [
        {
          "output_type": "stream",
          "name": "stdout",
          "text": [
            "Original dataframe:\n",
            "    Days  Months\n",
            "0   212       7\n",
            "1   243       8\n",
            "2   273       9\n",
            "3   304      10\n",
            "4   335      11\n",
            "5   365      12\n",
            "reduction data:\n",
            "    Days  Months\n",
            "2   273       9\n"
          ]
        }
      ]
    }
  ]
}