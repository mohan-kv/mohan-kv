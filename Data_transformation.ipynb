{
  "nbformat": 4,
  "nbformat_minor": 0,
  "metadata": {
    "colab": {
      "provenance": [],
      "authorship_tag": "ABX9TyOABsAFxDW5lN/3IPVUVCsu",
      "include_colab_link": true
    },
    "kernelspec": {
      "name": "python3",
      "display_name": "Python 3"
    },
    "language_info": {
      "name": "python"
    }
  },
  "cells": [
    {
      "cell_type": "markdown",
      "metadata": {
        "id": "view-in-github",
        "colab_type": "text"
      },
      "source": [
        "<a href=\"https://colab.research.google.com/github/mohan-kv/mohan-kv/blob/main/Data_transformation.ipynb\" target=\"_parent\"><img src=\"https://colab.research.google.com/assets/colab-badge.svg\" alt=\"Open In Colab\"/></a>"
      ]
    },
    {
      "cell_type": "code",
      "execution_count": 3,
      "metadata": {
        "colab": {
          "base_uri": "https://localhost:8080/"
        },
        "id": "uDrEnzeH8Tr3",
        "outputId": "08fbc39a-af3f-4672-81fd-6e47df03104b"
      },
      "outputs": [
        {
          "output_type": "stream",
          "name": "stdout",
          "text": [
            "   Numbers  Rank\n",
            "0       20   3.0\n",
            "1       10   1.5\n",
            "2       30   4.0\n",
            "3       40   5.0\n",
            "4       10   1.5\n"
          ]
        }
      ],
      "source": [
        "import pandas as pd\n",
        "\n",
        "data={'Numbers':[20,10,30,40,10]}\n",
        "df=pd.DataFrame(data)\n",
        "\n",
        "df['Rank']=df['Numbers'].rank()\n",
        "print(df)"
      ]
    },
    {
      "cell_type": "code",
      "source": [
        "\n",
        "data={'Values': [20,10,30,40,10]}\n",
        "df=pd.DataFrame(data)\n",
        "df['Bins'] = pd.cut(df['Values'], bins=3, labels=['Low', 'Medium', 'High'])\n",
        "print(df)"
      ],
      "metadata": {
        "colab": {
          "base_uri": "https://localhost:8080/"
        },
        "id": "2eUUvBFE8rWd",
        "outputId": "b31eaef4-7003-4e55-92e8-5e85f59feffe"
      },
      "execution_count": 4,
      "outputs": [
        {
          "output_type": "stream",
          "name": "stdout",
          "text": [
            "   Values    Bins\n",
            "0      20     Low\n",
            "1      10     Low\n",
            "2      30  Medium\n",
            "3      40    High\n",
            "4      10     Low\n"
          ]
        }
      ]
    }
  ]
}