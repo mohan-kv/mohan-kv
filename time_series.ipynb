{
  "nbformat": 4,
  "nbformat_minor": 0,
  "metadata": {
    "colab": {
      "provenance": [],
      "authorship_tag": "ABX9TyOeShSS9bk3xC5gLtDfRzMJ",
      "include_colab_link": true
    },
    "kernelspec": {
      "name": "python3",
      "display_name": "Python 3"
    },
    "language_info": {
      "name": "python"
    }
  },
  "cells": [
    {
      "cell_type": "markdown",
      "metadata": {
        "id": "view-in-github",
        "colab_type": "text"
      },
      "source": [
        "<a href=\"https://colab.research.google.com/github/mohan-kv/mohan-kv/blob/main/time_series.ipynb\" target=\"_parent\"><img src=\"https://colab.research.google.com/assets/colab-badge.svg\" alt=\"Open In Colab\"/></a>"
      ]
    },
    {
      "cell_type": "markdown",
      "source": [
        "Resampling: Changing the frequency of time series data (e.g., converting daily data to monthly data).\n",
        "\n",
        "Shifting: Moving the data forward or backward in time.\n",
        "\n",
        "Rolling Window: Applying a function (like mean) over a fixed-size moving window.\n",
        "\n",
        "Indexing and Slicing: Selecting data points or ranges based on time.\n",
        "\n",
        "Handling Missing Data: Filling gaps in the data using methods like forward fill or interpolation.\n",
        "\n",
        "Differencing: Subtracting one time point from another to remove trends and make the data stationary.\n",
        "\n",
        "Plotting: Visualizing the time series data to identify patterns and trends.\n"
      ],
      "metadata": {
        "id": "YFrQKIf9Guk9"
      }
    },
    {
      "cell_type": "code",
      "source": [
        "import pandas as pd\n",
        "import numpy as np\n",
        "\n",
        "date_range = pd.date_range(start='2023-01-01', end='2023-01-10', freq='D')\n",
        "time_series = pd.Series(np.random.randn(len(date_range)), index=date_range)\n",
        "print(time_series)\n"
      ],
      "metadata": {
        "colab": {
          "base_uri": "https://localhost:8080/"
        },
        "id": "XfoUYO8MJNbt",
        "outputId": "b35d56d6-0477-4e12-82c6-80ce0091d881"
      },
      "execution_count": 26,
      "outputs": [
        {
          "output_type": "stream",
          "name": "stdout",
          "text": [
            "2023-01-01   -0.689642\n",
            "2023-01-02    0.256942\n",
            "2023-01-03    0.193473\n",
            "2023-01-04   -2.210666\n",
            "2023-01-05   -0.528507\n",
            "2023-01-06   -0.960452\n",
            "2023-01-07   -1.002661\n",
            "2023-01-08    0.589923\n",
            "2023-01-09    0.852081\n",
            "2023-01-10    0.081918\n",
            "Freq: D, dtype: float64\n"
          ]
        }
      ]
    },
    {
      "cell_type": "code",
      "source": [
        "monthly_series = time_series.resample('M').mean()\n",
        "print(monthly_series)\n"
      ],
      "metadata": {
        "colab": {
          "base_uri": "https://localhost:8080/"
        },
        "id": "UrcUjJq9JWn4",
        "outputId": "b308f3a7-6a94-49c8-c076-320fda995347"
      },
      "execution_count": null,
      "outputs": [
        {
          "output_type": "stream",
          "name": "stdout",
          "text": [
            "2023-01-31   -0.340514\n",
            "Freq: M, dtype: float64\n"
          ]
        }
      ]
    },
    {
      "cell_type": "code",
      "source": [
        "shifted_forward = time_series.shift(1)\n",
        "print(shifted_forward)\n"
      ],
      "metadata": {
        "colab": {
          "base_uri": "https://localhost:8080/"
        },
        "id": "dLdxvgT2Je8P",
        "outputId": "1d9a5c12-34e9-443a-f265-af8be2c10d19"
      },
      "execution_count": null,
      "outputs": [
        {
          "output_type": "stream",
          "name": "stdout",
          "text": [
            "2023-01-01         NaN\n",
            "2023-01-02    0.144490\n",
            "2023-01-03   -1.023218\n",
            "2023-01-04    0.370108\n",
            "2023-01-05   -2.812563\n",
            "2023-01-06   -0.175115\n",
            "2023-01-07    0.744697\n",
            "2023-01-08   -2.300350\n",
            "2023-01-09    0.788497\n",
            "2023-01-10    0.784119\n",
            "Freq: D, dtype: float64\n"
          ]
        }
      ]
    },
    {
      "cell_type": "code",
      "source": [
        "import pandas as pd\n",
        "import numpy as np\n",
        "\n",
        "date_range = pd.date_range(start='2023-01-01', end='2023-01-05', freq='D')\n",
        "time_series = pd.Series([10, 12, 11, 15, 14], index=date_range)\n",
        "\n",
        "diff = time_series.diff()\n",
        "print(\"Original Time Series:\")\n",
        "print(time_series)\n",
        "print(\"\\nDifference Time Series:\")\n",
        "print(diff)\n"
      ],
      "metadata": {
        "colab": {
          "base_uri": "https://localhost:8080/"
        },
        "id": "qhDCocggMEL6",
        "outputId": "ea62aa1c-3d72-48df-ed74-c5be00fc7583"
      },
      "execution_count": null,
      "outputs": [
        {
          "output_type": "stream",
          "name": "stdout",
          "text": [
            "Original Time Series:\n",
            "2023-01-01    10\n",
            "2023-01-02    12\n",
            "2023-01-03    11\n",
            "2023-01-04    15\n",
            "2023-01-05    14\n",
            "Freq: D, dtype: int64\n",
            "\n",
            "Difference Time Series:\n",
            "2023-01-01    NaN\n",
            "2023-01-02    2.0\n",
            "2023-01-03   -1.0\n",
            "2023-01-04    4.0\n",
            "2023-01-05   -1.0\n",
            "Freq: D, dtype: float64\n"
          ]
        }
      ]
    },
    {
      "cell_type": "code",
      "source": [
        "rolling_mean = time_series.rolling(window=3).mean()\n",
        "print(rolling_mean)\n"
      ],
      "metadata": {
        "colab": {
          "base_uri": "https://localhost:8080/"
        },
        "id": "EruJrbaWJjzn",
        "outputId": "964d6959-ee61-47bf-bb00-00f75f29182d"
      },
      "execution_count": null,
      "outputs": [
        {
          "output_type": "stream",
          "name": "stdout",
          "text": [
            "2023-01-01         NaN\n",
            "2023-01-02         NaN\n",
            "2023-01-03   -0.169540\n",
            "2023-01-04   -1.155224\n",
            "2023-01-05   -0.872523\n",
            "2023-01-06   -0.747660\n",
            "2023-01-07   -0.576922\n",
            "2023-01-08   -0.255719\n",
            "2023-01-09   -0.242578\n",
            "2023-01-10    0.548936\n",
            "Freq: D, dtype: float64\n"
          ]
        }
      ]
    },
    {
      "cell_type": "code",
      "source": [
        "print(time_series['2023-01-05'])\n",
        "print(time_series['2023-01-03':'2023-01-06'])\n"
      ],
      "metadata": {
        "colab": {
          "base_uri": "https://localhost:8080/"
        },
        "id": "hhbR9Z2xJv8g",
        "outputId": "d0f371e7-8d2d-4db2-a8f5-3d4a001e4b81"
      },
      "execution_count": null,
      "outputs": [
        {
          "output_type": "stream",
          "name": "stdout",
          "text": [
            "-0.1751146707111891\n",
            "2023-01-03    0.370108\n",
            "2023-01-04   -2.812563\n",
            "2023-01-05   -0.175115\n",
            "2023-01-06    0.744697\n",
            "Freq: D, dtype: float64\n"
          ]
        }
      ]
    },
    {
      "cell_type": "code",
      "source": [
        "filled_series = time_series.fillna(method='bfill')\n",
        "print(filled_series)\n"
      ],
      "metadata": {
        "colab": {
          "base_uri": "https://localhost:8080/"
        },
        "id": "OAr8NaCIJ4tI",
        "outputId": "d82d21bd-1dfb-43ca-8968-6dab2f9d41f3"
      },
      "execution_count": 29,
      "outputs": [
        {
          "output_type": "stream",
          "name": "stdout",
          "text": [
            "2023-01-01   -0.689642\n",
            "2023-01-02    0.256942\n",
            "2023-01-03   -0.528507\n",
            "2023-01-04   -0.528507\n",
            "2023-01-05   -0.528507\n",
            "2023-01-06   -0.960452\n",
            "2023-01-07   -1.002661\n",
            "2023-01-08    0.589923\n",
            "2023-01-09    0.852081\n",
            "2023-01-10    0.081918\n",
            "Freq: D, dtype: float64\n"
          ]
        }
      ]
    },
    {
      "cell_type": "code",
      "source": [
        "import pandas as pd\n",
        "import numpy as np\n",
        "import matplotlib.pyplot as plt\n",
        "\n",
        "date_range = pd.date_range(start='2023-01-01', end='2023-01-10', freq='D')\n",
        "time_series = pd.Series(np.random.randn(len(date_range)), index=date_range)\n",
        "\n",
        "plt.figure(figsize=(10, 5))\n",
        "time_series.plot(title='Time Series Data', marker='o', linestyle='-')\n",
        "plt.xlabel('Date')\n",
        "plt.ylabel('Values')\n",
        "plt.grid(True)\n",
        "plt.show()\n"
      ],
      "metadata": {
        "colab": {
          "base_uri": "https://localhost:8080/",
          "height": 520
        },
        "id": "91PzTYW9J-Dd",
        "outputId": "f612fef7-31cd-48dc-dd86-9e46c8fe916d"
      },
      "execution_count": null,
      "outputs": [
        {
          "output_type": "display_data",
          "data": {
            "text/plain": [
              "<Figure size 1000x500 with 1 Axes>"
            ],
            "image/png": "[encoded data removed]"
          },
          "metadata": {}
        }
      ]
    }
  ]
}